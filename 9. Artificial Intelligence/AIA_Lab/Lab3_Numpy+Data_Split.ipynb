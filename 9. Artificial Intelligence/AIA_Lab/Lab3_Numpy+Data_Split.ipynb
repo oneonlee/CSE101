{
  "cells": [
    {
      "cell_type": "markdown",
      "metadata": {
        "id": "3cfrOV4dL9hW"
      },
      "source": [
        "# 1.Numpy"
      ]
    },
    {
      "cell_type": "markdown",
      "metadata": {
        "id": "LKsBHx76Yn7L"
      },
      "source": [
        "파이썬은 자체적으로 배열 자료형을 제공하지 않습니다. 따라서 배열을 구현한 다른 패키지를 임포트해야 합니다. 파이썬에서 배열을 사용하기 위한 표준 패키지는 **Numpy** 입니다."
      ]
    },
    {
      "cell_type": "markdown",
      "metadata": {
        "id": "fY12nHhyL9hX"
      },
      "source": [
        "Numpy는 파이썬이 계산과학분야에 이용될때 핵심 역할을 하는 라이브러리입니다. Numpy는 고성능의 다차원 배열 객체와 이를 다룰 도구를 제공합니다."
      ]
    },
    {
      "cell_type": "markdown",
      "metadata": {
        "id": "lZMyAdqhL9hY"
      },
      "source": [
        "Numpy를 사용하기 위해서는 먼저 `numpy` 패키지를 import해야합니다:"
      ]
    },
    {
      "cell_type": "code",
      "source": [
        "import numpy"
      ],
      "metadata": {
        "id": "clFQfEhewY7X"
      },
      "execution_count": 1,
      "outputs": []
    },
    {
      "cell_type": "code",
      "source": [],
      "metadata": {
        "id": "VGPVVVCFFW5J"
      },
      "execution_count": 1,
      "outputs": []
    },
    {
      "cell_type": "code",
      "source": [
        "numpy.array([1,2,3])"
      ],
      "metadata": {
        "colab": {
          "base_uri": "https://localhost:8080/"
        },
        "id": "G_I_2MCEwamd",
        "outputId": "37a344fa-4f07-4431-977a-7c5ccf8c558f"
      },
      "execution_count": 2,
      "outputs": [
        {
          "output_type": "execute_result",
          "data": {
            "text/plain": [
              "array([1, 2, 3])"
            ]
          },
          "metadata": {},
          "execution_count": 2
        }
      ]
    },
    {
      "cell_type": "code",
      "execution_count": 3,
      "metadata": {
        "id": "58QdX8BLL9hZ"
      },
      "outputs": [],
      "source": [
        "import numpy as np"
      ]
    },
    {
      "cell_type": "code",
      "source": [
        "np.array([1,2,3])"
      ],
      "metadata": {
        "colab": {
          "base_uri": "https://localhost:8080/"
        },
        "id": "vC1q8_djzP-F",
        "outputId": "1668fffe-7ff7-40af-b21f-126657f3df41"
      },
      "execution_count": 4,
      "outputs": [
        {
          "output_type": "execute_result",
          "data": {
            "text/plain": [
              "array([1, 2, 3])"
            ]
          },
          "metadata": {},
          "execution_count": 4
        }
      ]
    },
    {
      "cell_type": "markdown",
      "metadata": {
        "id": "DDx6v1EdL9hb"
      },
      "source": [
        "##1.1. Arrays"
      ]
    },
    {
      "cell_type": "markdown",
      "metadata": {
        "id": "f-Zv3f7LL9hc"
      },
      "source": [
        "Numpy 배열은 동일한 자료형을 가지는 값들이 격자판 형태로 있는 것입니다. \n",
        "\n",
        "rank는 배열이 몇 차원인지를 의미합니다. \n",
        "\n",
        "shape는 각 차원의 크기를 알려주는 정수들이 모인 tuple입니다."
      ]
    },
    {
      "cell_type": "markdown",
      "metadata": {
        "id": "_eMTRnZRL9hc"
      },
      "source": [
        "파이썬의 리스트를 중첩해 Numpy 배열을 초기화 할 수 있고, 대괄호를 통해 각 요소에 접근할 수 있습니다:"
      ]
    },
    {
      "cell_type": "code",
      "execution_count": 5,
      "metadata": {
        "colab": {
          "base_uri": "https://localhost:8080/"
        },
        "id": "-l3JrGxCL9hc",
        "outputId": "b387d0c3-4957-4d7e-fc58-c0a0a5aec9e7"
      },
      "outputs": [
        {
          "output_type": "stream",
          "name": "stdout",
          "text": [
            "<class 'numpy.ndarray'> (3,) 1 2 3\n",
            "[5 2 3]\n"
          ]
        }
      ],
      "source": [
        "a = np.array([1, 2, 3])  # Create a rank 1 array\n",
        "print(type(a), a.shape, a[0], a[1], a[2])\n",
        "\n",
        "# Change an element of the array\n",
        "# [5 2 3]\n",
        "\n",
        "a[0] = 5\n",
        "print(a)                  "
      ]
    },
    {
      "cell_type": "code",
      "source": [
        "a[1] =1000000"
      ],
      "metadata": {
        "id": "1nRbqm0kw6NH"
      },
      "execution_count": 6,
      "outputs": []
    },
    {
      "cell_type": "code",
      "source": [
        "a"
      ],
      "metadata": {
        "colab": {
          "base_uri": "https://localhost:8080/"
        },
        "id": "HENRMxl-w8HU",
        "outputId": "3729f9d6-67c0-46f7-ecec-02a2beb2a587"
      },
      "execution_count": 7,
      "outputs": [
        {
          "output_type": "execute_result",
          "data": {
            "text/plain": [
              "array([      5, 1000000,       3])"
            ]
          },
          "metadata": {},
          "execution_count": 7
        }
      ]
    },
    {
      "cell_type": "code",
      "execution_count": 8,
      "metadata": {
        "colab": {
          "base_uri": "https://localhost:8080/"
        },
        "id": "ma6mk-kdL9hh",
        "outputId": "3ef8a5b4-d6ef-4488-ba8b-4bc699eaef28"
      },
      "outputs": [
        {
          "output_type": "execute_result",
          "data": {
            "text/plain": [
              "array([[1, 2, 3],\n",
              "       [4, 5, 6]])"
            ]
          },
          "metadata": {},
          "execution_count": 8
        }
      ],
      "source": [
        "b = np.array([[1,2,3],[4,5,6]])   # Create a rank 2 array\n",
        "b"
      ]
    },
    {
      "cell_type": "code",
      "execution_count": 9,
      "metadata": {
        "colab": {
          "base_uri": "https://localhost:8080/"
        },
        "id": "ymfSHAwtL9hj",
        "outputId": "ea587d43-ca64-4d95-9e03-1216f0085e25"
      },
      "outputs": [
        {
          "output_type": "stream",
          "name": "stdout",
          "text": [
            "(2, 3)\n",
            "1 2 4\n"
          ]
        }
      ],
      "source": [
        "print(b.shape)\n",
        "print(b[0, 0], b[0, 1], b[1, 0])"
      ]
    },
    {
      "cell_type": "code",
      "source": [
        "# 3차원 array 만들어보기 ( rank = 3 )\n",
        "# \n",
        "x = np.array([[[1,2], [3,4]], [[1,2], [3,4]]])\n",
        "x"
      ],
      "metadata": {
        "id": "Pb5ShtUD_Qey",
        "colab": {
          "base_uri": "https://localhost:8080/"
        },
        "outputId": "153dc8b1-4118-4d5a-efd3-f882ef73b2c4"
      },
      "execution_count": 10,
      "outputs": [
        {
          "output_type": "execute_result",
          "data": {
            "text/plain": [
              "array([[[1, 2],\n",
              "        [3, 4]],\n",
              "\n",
              "       [[1, 2],\n",
              "        [3, 4]]])"
            ]
          },
          "metadata": {},
          "execution_count": 10
        }
      ]
    },
    {
      "cell_type": "code",
      "source": [
        "x.shape"
      ],
      "metadata": {
        "colab": {
          "base_uri": "https://localhost:8080/"
        },
        "id": "L7rABAxMxdKs",
        "outputId": "16e2e5bd-9561-49dd-beaf-20974ec13a7e"
      },
      "execution_count": 11,
      "outputs": [
        {
          "output_type": "execute_result",
          "data": {
            "text/plain": [
              "(2, 2, 2)"
            ]
          },
          "metadata": {},
          "execution_count": 11
        }
      ]
    },
    {
      "cell_type": "code",
      "source": [
        "x[0,0,0]"
      ],
      "metadata": {
        "colab": {
          "base_uri": "https://localhost:8080/"
        },
        "id": "SvmMHnouxgFb",
        "outputId": "c29539a1-09c8-4d04-fec5-96c714720376"
      },
      "execution_count": 12,
      "outputs": [
        {
          "output_type": "execute_result",
          "data": {
            "text/plain": [
              "1"
            ]
          },
          "metadata": {},
          "execution_count": 12
        }
      ]
    },
    {
      "cell_type": "code",
      "source": [
        "# array의 rank\n",
        "# np.ndim(x)\n",
        "np.ndim(x)\n"
      ],
      "metadata": {
        "colab": {
          "base_uri": "https://localhost:8080/"
        },
        "id": "lqQ3nHUhQAKV",
        "outputId": "c4164eab-27cd-4e62-f6f4-69516f556dfd"
      },
      "execution_count": 13,
      "outputs": [
        {
          "output_type": "execute_result",
          "data": {
            "text/plain": [
              "3"
            ]
          },
          "metadata": {},
          "execution_count": 13
        }
      ]
    },
    {
      "cell_type": "markdown",
      "source": [
        "![image.png](data:image/png;base64,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)"
      ],
      "metadata": {
        "id": "l5DPQc_6_F1y"
      }
    },
    {
      "cell_type": "markdown",
      "metadata": {
        "id": "F2qwdyvuL9hn"
      },
      "source": [
        "Numpy는 배열을 만들기 위한 다양한 함수를 제공합니다."
      ]
    },
    {
      "cell_type": "code",
      "execution_count": 14,
      "metadata": {
        "colab": {
          "base_uri": "https://localhost:8080/"
        },
        "id": "mVTN_EBqL9hn",
        "outputId": "60402cee-992e-4d4a-a63f-e6c4b5440433"
      },
      "outputs": [
        {
          "output_type": "stream",
          "name": "stdout",
          "text": [
            "[[0. 0.]\n",
            " [0. 0.]]\n"
          ]
        }
      ],
      "source": [
        "a = np.zeros((2,2))  # Create an array of all zeros\n",
        "print(a)"
      ]
    },
    {
      "cell_type": "code",
      "source": [
        "np.zeros([3,4])"
      ],
      "metadata": {
        "colab": {
          "base_uri": "https://localhost:8080/"
        },
        "id": "UAJI95RayCZJ",
        "outputId": "37d4788d-a842-4be1-8bed-70f47ac42498"
      },
      "execution_count": 15,
      "outputs": [
        {
          "output_type": "execute_result",
          "data": {
            "text/plain": [
              "array([[0., 0., 0., 0.],\n",
              "       [0., 0., 0., 0.],\n",
              "       [0., 0., 0., 0.]])"
            ]
          },
          "metadata": {},
          "execution_count": 15
        }
      ]
    },
    {
      "cell_type": "code",
      "execution_count": 16,
      "metadata": {
        "colab": {
          "base_uri": "https://localhost:8080/"
        },
        "id": "skiKlNmlL9h5",
        "outputId": "52541f09-d088-4c08-ca57-a1c5ad675f8c"
      },
      "outputs": [
        {
          "output_type": "stream",
          "name": "stdout",
          "text": [
            "[[1. 1.]]\n"
          ]
        }
      ],
      "source": [
        "b = np.ones((1,2))   # Create an array of all ones\n",
        "print(b)"
      ]
    },
    {
      "cell_type": "code",
      "source": [
        "np.ones([3,5,2])"
      ],
      "metadata": {
        "colab": {
          "base_uri": "https://localhost:8080/"
        },
        "id": "qmQ4T7oSyNI1",
        "outputId": "0414d111-edfa-4ad6-d9c4-8b2af4b259c7"
      },
      "execution_count": 17,
      "outputs": [
        {
          "output_type": "execute_result",
          "data": {
            "text/plain": [
              "array([[[1., 1.],\n",
              "        [1., 1.],\n",
              "        [1., 1.],\n",
              "        [1., 1.],\n",
              "        [1., 1.]],\n",
              "\n",
              "       [[1., 1.],\n",
              "        [1., 1.],\n",
              "        [1., 1.],\n",
              "        [1., 1.],\n",
              "        [1., 1.]],\n",
              "\n",
              "       [[1., 1.],\n",
              "        [1., 1.],\n",
              "        [1., 1.],\n",
              "        [1., 1.],\n",
              "        [1., 1.]]])"
            ]
          },
          "metadata": {},
          "execution_count": 17
        }
      ]
    },
    {
      "cell_type": "code",
      "execution_count": 18,
      "metadata": {
        "colab": {
          "base_uri": "https://localhost:8080/"
        },
        "id": "HtFsr03bL9h7",
        "outputId": "a344cdb5-9a9f-4936-da36-d6f8c395d905"
      },
      "outputs": [
        {
          "output_type": "stream",
          "name": "stdout",
          "text": [
            "[[3 3]\n",
            " [3 3]]\n"
          ]
        }
      ],
      "source": [
        "c = np.full((2,2), 3) # Create a constant array\n",
        "print(c)"
      ]
    },
    {
      "cell_type": "code",
      "source": [
        "np.full([2,3,2], 10)"
      ],
      "metadata": {
        "colab": {
          "base_uri": "https://localhost:8080/"
        },
        "id": "0Z3Lkthrya4B",
        "outputId": "bb1aa106-ee2d-4dde-a987-5da7ff3651a5"
      },
      "execution_count": 19,
      "outputs": [
        {
          "output_type": "execute_result",
          "data": {
            "text/plain": [
              "array([[[10, 10],\n",
              "        [10, 10],\n",
              "        [10, 10]],\n",
              "\n",
              "       [[10, 10],\n",
              "        [10, 10],\n",
              "        [10, 10]]])"
            ]
          },
          "metadata": {},
          "execution_count": 19
        }
      ]
    },
    {
      "cell_type": "code",
      "execution_count": 20,
      "metadata": {
        "colab": {
          "base_uri": "https://localhost:8080/"
        },
        "id": "-QcALHvkL9h9",
        "outputId": "e89ba7d7-43dc-4d8f-804d-b1f9e5dd0e8b"
      },
      "outputs": [
        {
          "output_type": "stream",
          "name": "stdout",
          "text": [
            "[[1. 0.]\n",
            " [0. 1.]]\n"
          ]
        }
      ],
      "source": [
        "d = np.eye(2)        # Create a 2x2 identity matrix\n",
        "print(d)"
      ]
    },
    {
      "cell_type": "code",
      "source": [
        "np.eye(5)"
      ],
      "metadata": {
        "colab": {
          "base_uri": "https://localhost:8080/"
        },
        "id": "6G5LQc1rykPW",
        "outputId": "5110248a-5443-4330-fa53-eb771649f164"
      },
      "execution_count": 21,
      "outputs": [
        {
          "output_type": "execute_result",
          "data": {
            "text/plain": [
              "array([[1., 0., 0., 0., 0.],\n",
              "       [0., 1., 0., 0., 0.],\n",
              "       [0., 0., 1., 0., 0.],\n",
              "       [0., 0., 0., 1., 0.],\n",
              "       [0., 0., 0., 0., 1.]])"
            ]
          },
          "metadata": {},
          "execution_count": 21
        }
      ]
    },
    {
      "cell_type": "code",
      "source": [
        "x = np.ones([2,3,4])\n",
        "x"
      ],
      "metadata": {
        "colab": {
          "base_uri": "https://localhost:8080/"
        },
        "id": "capDc1OIDaRx",
        "outputId": "43be7d16-bc23-47cf-a883-93a67bb23179"
      },
      "execution_count": 22,
      "outputs": [
        {
          "output_type": "execute_result",
          "data": {
            "text/plain": [
              "array([[[1., 1., 1., 1.],\n",
              "        [1., 1., 1., 1.],\n",
              "        [1., 1., 1., 1.]],\n",
              "\n",
              "       [[1., 1., 1., 1.],\n",
              "        [1., 1., 1., 1.],\n",
              "        [1., 1., 1., 1.]]])"
            ]
          },
          "metadata": {},
          "execution_count": 22
        }
      ]
    },
    {
      "cell_type": "code",
      "source": [
        "np.zeros_like(x)"
      ],
      "metadata": {
        "colab": {
          "base_uri": "https://localhost:8080/"
        },
        "id": "XUG8YSCNyw7Y",
        "outputId": "68e0d988-f1af-41f2-e27a-ad1339093f8b"
      },
      "execution_count": 23,
      "outputs": [
        {
          "output_type": "execute_result",
          "data": {
            "text/plain": [
              "array([[[0., 0., 0., 0.],\n",
              "        [0., 0., 0., 0.],\n",
              "        [0., 0., 0., 0.]],\n",
              "\n",
              "       [[0., 0., 0., 0.],\n",
              "        [0., 0., 0., 0.],\n",
              "        [0., 0., 0., 0.]]])"
            ]
          },
          "metadata": {},
          "execution_count": 23
        }
      ]
    },
    {
      "cell_type": "code",
      "source": [
        "np.ones_like(x)"
      ],
      "metadata": {
        "colab": {
          "base_uri": "https://localhost:8080/"
        },
        "id": "SFaGfPWhy5s9",
        "outputId": "3a6652ec-458e-4d9f-b1dd-49fc27d6200e"
      },
      "execution_count": 24,
      "outputs": [
        {
          "output_type": "execute_result",
          "data": {
            "text/plain": [
              "array([[[1., 1., 1., 1.],\n",
              "        [1., 1., 1., 1.],\n",
              "        [1., 1., 1., 1.]],\n",
              "\n",
              "       [[1., 1., 1., 1.],\n",
              "        [1., 1., 1., 1.],\n",
              "        [1., 1., 1., 1.]]])"
            ]
          },
          "metadata": {},
          "execution_count": 24
        }
      ]
    },
    {
      "cell_type": "code",
      "execution_count": 25,
      "metadata": {
        "colab": {
          "base_uri": "https://localhost:8080/"
        },
        "id": "RCpaYg9qL9iA",
        "outputId": "8e597887-db0b-4d94-dd1c-02a7f3cfbf9b"
      },
      "outputs": [
        {
          "output_type": "stream",
          "name": "stdout",
          "text": [
            "[[[0.15250304 0.41630719 0.99612831]\n",
            "  [0.7024459  0.63863917 0.91568424]]\n",
            "\n",
            " [[0.77163442 0.9821303  0.44116533]\n",
            "  [0.69970874 0.51232377 0.48400669]]]\n"
          ]
        }
      ],
      "source": [
        "e = np.random.random((2,2,3)) # Create an array filled with random values\n",
        "print(e)"
      ]
    },
    {
      "cell_type": "code",
      "source": [
        "# 수열만들기\n",
        "# np.arange(x, y,step)   x부터 y까지 1step씩씩\n",
        "np.arange(10)"
      ],
      "metadata": {
        "colab": {
          "base_uri": "https://localhost:8080/"
        },
        "id": "y0PsQiLjC_Oh",
        "outputId": "ccfce3ef-6dc5-4907-9897-476dad76864e"
      },
      "execution_count": 26,
      "outputs": [
        {
          "output_type": "execute_result",
          "data": {
            "text/plain": [
              "array([0, 1, 2, 3, 4, 5, 6, 7, 8, 9])"
            ]
          },
          "metadata": {},
          "execution_count": 26
        }
      ]
    },
    {
      "cell_type": "code",
      "source": [
        "# \n",
        "# np.linspace(x,y,n) x부터 y까지 n개\n",
        "np.linspace(0, 20, 3)"
      ],
      "metadata": {
        "colab": {
          "base_uri": "https://localhost:8080/"
        },
        "id": "ZBKdfaV3DFQb",
        "outputId": "1769af9f-cbce-4214-9c33-aec8b776d4b8"
      },
      "execution_count": 27,
      "outputs": [
        {
          "output_type": "execute_result",
          "data": {
            "text/plain": [
              "array([ 0., 10., 20.])"
            ]
          },
          "metadata": {},
          "execution_count": 27
        }
      ]
    },
    {
      "cell_type": "markdown",
      "metadata": {
        "id": "jI5qcSDfL9iC"
      },
      "source": [
        "##1.2. Array indexing"
      ]
    },
    {
      "cell_type": "markdown",
      "metadata": {
        "id": "M-E4MUeVL9iC"
      },
      "source": [
        "Numpy는 배열을 인덱싱하는 몇 가지 방법을 제공합니다."
      ]
    },
    {
      "cell_type": "markdown",
      "metadata": {
        "id": "QYv4JyIEL9iD"
      },
      "source": [
        "Slicing: 파이썬 리스트와 유사하게, Numpy 배열도 슬라이싱이 가능합니다. Numpy 배열은 다차원인 경우가 많기에, 각 차원별로 어떻게 슬라이스할건지 명확히 해야 합니다:"
      ]
    },
    {
      "cell_type": "code",
      "execution_count": 28,
      "metadata": {
        "colab": {
          "base_uri": "https://localhost:8080/"
        },
        "id": "wLWA0udwL9iD",
        "outputId": "b90b3c7d-7519-4bf6-f739-3186894bafc7"
      },
      "outputs": [
        {
          "output_type": "stream",
          "name": "stdout",
          "text": [
            "[[ 1  2  3  4]\n",
            " [ 5  6  7  8]\n",
            " [ 9 10 11 12]]\n"
          ]
        }
      ],
      "source": [
        "import numpy as np\n",
        "\n",
        "# Create the following rank 2 array with shape (3, 4)\n",
        "# [[ 1  2  3  4]\n",
        "#  [ 5  6  7  8]\n",
        "#  [ 9 10 11 12]]\n",
        "a = np.array([[1,2,3,4], [5,6,7,8], [9,10,11,12]])\n",
        "print(a)\n",
        "\n"
      ]
    },
    {
      "cell_type": "code",
      "source": [],
      "metadata": {
        "id": "SP7ZghIjzy6h"
      },
      "execution_count": 28,
      "outputs": []
    },
    {
      "cell_type": "code",
      "source": [
        "# Use slicing to pull out the subarray consisting of the first 2 rows\n",
        "# and columns 1 and 2; b is the following array of shape (2, 2):\n",
        "# [[2 3]\n",
        "#  [6 7]]\n",
        "\n",
        "b = a[:2    ,    1:3]   # b는 a의 부분배열\n",
        "print(b)\n",
        "########## code yourself ##########"
      ],
      "metadata": {
        "colab": {
          "base_uri": "https://localhost:8080/"
        },
        "id": "kvhXB59OzyPB",
        "outputId": "b0f1f0e1-5ffc-4533-f3b1-574951b78ed2"
      },
      "execution_count": 29,
      "outputs": [
        {
          "output_type": "stream",
          "name": "stdout",
          "text": [
            "[[2 3]\n",
            " [6 7]]\n"
          ]
        }
      ]
    },
    {
      "cell_type": "code",
      "source": [
        "c = np.array([1,2,3,4])\n",
        "c"
      ],
      "metadata": {
        "colab": {
          "base_uri": "https://localhost:8080/"
        },
        "id": "k0PC_6R8CaCz",
        "outputId": "5b660bb0-4525-4226-c254-61eb4cd8d582"
      },
      "execution_count": 30,
      "outputs": [
        {
          "output_type": "execute_result",
          "data": {
            "text/plain": [
              "array([1, 2, 3, 4])"
            ]
          },
          "metadata": {},
          "execution_count": 30
        }
      ]
    },
    {
      "cell_type": "markdown",
      "metadata": {
        "id": "KahhtZKYL9iF"
      },
      "source": [
        "Numpy 배열을 슬라이싱하면, 결과로 얻어지는 배열은 언제나 원본 배열의 부분 배열입니다. 따라서 슬라이싱된 배열을 바꾸면 원본 배열도 바뀝니다."
      ]
    },
    {
      "cell_type": "code",
      "execution_count": 31,
      "metadata": {
        "colab": {
          "base_uri": "https://localhost:8080/"
        },
        "id": "1kmtaFHuL9iG",
        "outputId": "667a13da-0977-436a-8991-1a1e34766464"
      },
      "outputs": [
        {
          "output_type": "stream",
          "name": "stdout",
          "text": [
            "2\n",
            "[[77  3]\n",
            " [ 6  7]]\n",
            "[[ 1 77  3  4]\n",
            " [ 5  6  7  8]\n",
            " [ 9 10 11 12]]\n"
          ]
        },
        {
          "output_type": "execute_result",
          "data": {
            "text/plain": [
              "array([[ 1, 77,  3,  4],\n",
              "       [ 5,  6,  7,  8],\n",
              "       [ 9, 10, 11, 12]])"
            ]
          },
          "metadata": {},
          "execution_count": 31
        }
      ],
      "source": [
        "print(a[0, 1])\n",
        "b[0, 0] = 77    # b[0, 0] is the same piece of data as a[0, 1]\n",
        "print(b)\n",
        "print(a)\n",
        "a"
      ]
    },
    {
      "cell_type": "code",
      "source": [
        "# x[0, :] vs x[0:1, :]\n",
        "# 비슷해보이지만 rank의 차이가 있다다\n",
        "x = np.array([[1,2], [3,4]])\n",
        "x, x.shape\n"
      ],
      "metadata": {
        "colab": {
          "base_uri": "https://localhost:8080/"
        },
        "id": "CriONetjB1Yu",
        "outputId": "89b90e25-e50e-4a7b-ae92-c8a4bd3da69a"
      },
      "execution_count": 32,
      "outputs": [
        {
          "output_type": "execute_result",
          "data": {
            "text/plain": [
              "(array([[1, 2],\n",
              "        [3, 4]]),\n",
              " (2, 2))"
            ]
          },
          "metadata": {},
          "execution_count": 32
        }
      ]
    },
    {
      "cell_type": "code",
      "source": [
        "x[0, :]"
      ],
      "metadata": {
        "colab": {
          "base_uri": "https://localhost:8080/"
        },
        "id": "rlmxCJLf0gVa",
        "outputId": "7a26c4ea-6a25-4b4e-be5f-692caf7039e4"
      },
      "execution_count": 33,
      "outputs": [
        {
          "output_type": "execute_result",
          "data": {
            "text/plain": [
              "array([1, 2])"
            ]
          },
          "metadata": {},
          "execution_count": 33
        }
      ]
    },
    {
      "cell_type": "code",
      "source": [
        "x[0:1, :]"
      ],
      "metadata": {
        "colab": {
          "base_uri": "https://localhost:8080/"
        },
        "id": "cWH3dGt_0k9s",
        "outputId": "b91f5145-11a0-4870-f56a-73b0fd84f527"
      },
      "execution_count": 34,
      "outputs": [
        {
          "output_type": "execute_result",
          "data": {
            "text/plain": [
              "array([[1, 2]])"
            ]
          },
          "metadata": {},
          "execution_count": 34
        }
      ]
    },
    {
      "cell_type": "code",
      "source": [
        "y = x.copy()  #  y를 수정해도 x가 변하지 않음"
      ],
      "metadata": {
        "id": "d72xiFyND3BD"
      },
      "execution_count": 35,
      "outputs": []
    },
    {
      "cell_type": "code",
      "source": [
        "y[0] = 10000000\n",
        "y"
      ],
      "metadata": {
        "colab": {
          "base_uri": "https://localhost:8080/"
        },
        "id": "ClsHAqrdXXhI",
        "outputId": "d1b67c00-2d9c-4f72-8c18-fb5529dae186"
      },
      "execution_count": 36,
      "outputs": [
        {
          "output_type": "execute_result",
          "data": {
            "text/plain": [
              "array([[10000000, 10000000],\n",
              "       [       3,        4]])"
            ]
          },
          "metadata": {},
          "execution_count": 36
        }
      ]
    },
    {
      "cell_type": "code",
      "source": [
        "x"
      ],
      "metadata": {
        "colab": {
          "base_uri": "https://localhost:8080/"
        },
        "id": "4oLQ5-leXZUl",
        "outputId": "c12b3c1e-6d30-4f63-a964-544b4bcf8045"
      },
      "execution_count": 37,
      "outputs": [
        {
          "output_type": "execute_result",
          "data": {
            "text/plain": [
              "array([[1, 2],\n",
              "       [3, 4]])"
            ]
          },
          "metadata": {},
          "execution_count": 37
        }
      ]
    },
    {
      "cell_type": "code",
      "source": [
        "# 대각선 성분만 가져오려면?\n",
        "\n",
        "x = np.arange(9).reshape(3,3) \n",
        "x\n"
      ],
      "metadata": {
        "colab": {
          "base_uri": "https://localhost:8080/"
        },
        "id": "gYqT6NFKExmX",
        "outputId": "38f2a6a2-d4e1-4879-85cf-2c94b551d1c2"
      },
      "execution_count": 38,
      "outputs": [
        {
          "output_type": "execute_result",
          "data": {
            "text/plain": [
              "array([[0, 1, 2],\n",
              "       [3, 4, 5],\n",
              "       [6, 7, 8]])"
            ]
          },
          "metadata": {},
          "execution_count": 38
        }
      ]
    },
    {
      "cell_type": "code",
      "source": [
        "np.arange(9)"
      ],
      "metadata": {
        "colab": {
          "base_uri": "https://localhost:8080/"
        },
        "id": "InpetaU_0_h5",
        "outputId": "269d6ab4-1219-4d6f-c241-f8a4187694ec"
      },
      "execution_count": 39,
      "outputs": [
        {
          "output_type": "execute_result",
          "data": {
            "text/plain": [
              "array([0, 1, 2, 3, 4, 5, 6, 7, 8])"
            ]
          },
          "metadata": {},
          "execution_count": 39
        }
      ]
    },
    {
      "cell_type": "code",
      "source": [
        "np.arange(9).reshape(3,3)"
      ],
      "metadata": {
        "colab": {
          "base_uri": "https://localhost:8080/"
        },
        "id": "elMxOLVy1CI9",
        "outputId": "15bf6021-cba9-4909-fef7-98ab5bd67561"
      },
      "execution_count": 40,
      "outputs": [
        {
          "output_type": "execute_result",
          "data": {
            "text/plain": [
              "array([[0, 1, 2],\n",
              "       [3, 4, 5],\n",
              "       [6, 7, 8]])"
            ]
          },
          "metadata": {},
          "execution_count": 40
        }
      ]
    },
    {
      "cell_type": "code",
      "source": [
        "# [ x[0,0], x[1,1], x[2,2] ] 이렇게도 할 수 있지만"
      ],
      "metadata": {
        "id": "RIxO4hKMX6Mi"
      },
      "execution_count": 41,
      "outputs": []
    },
    {
      "cell_type": "code",
      "source": [
        "x[0,0], x[1,1], x[2,2]"
      ],
      "metadata": {
        "colab": {
          "base_uri": "https://localhost:8080/"
        },
        "id": "q3IKox9D1LiS",
        "outputId": "78342c93-4707-4ab8-89c4-37be40260228"
      },
      "execution_count": 42,
      "outputs": [
        {
          "output_type": "execute_result",
          "data": {
            "text/plain": [
              "(0, 4, 8)"
            ]
          },
          "metadata": {},
          "execution_count": 42
        }
      ]
    },
    {
      "cell_type": "code",
      "source": [
        "# x[[0,1,2],[0,1,2]] 인덱싱 기능을 응용할 수도 있다\n",
        "x[  [0,1,2]   ,   [0,1,2]    ]"
      ],
      "metadata": {
        "colab": {
          "base_uri": "https://localhost:8080/"
        },
        "id": "7aTmL8rEX8rr",
        "outputId": "a2a61fc1-9aeb-4e48-bb6f-b47c58ee51b6"
      },
      "execution_count": 43,
      "outputs": [
        {
          "output_type": "execute_result",
          "data": {
            "text/plain": [
              "array([0, 4, 8])"
            ]
          },
          "metadata": {},
          "execution_count": 43
        }
      ]
    },
    {
      "cell_type": "code",
      "source": [
        "# 원하는 '행'만 선택하고 싶다면?\n",
        "# 슬라이싱은 연속된 행만 선택 가능한데....\n",
        "# x[[0,2],:]\n",
        "\n",
        "x[   [0,2]   ,   :   ]\n"
      ],
      "metadata": {
        "colab": {
          "base_uri": "https://localhost:8080/"
        },
        "id": "vGvX-0ndYFJI",
        "outputId": "71e64970-1ed0-4bdc-feec-4ae7df8ff15c"
      },
      "execution_count": 44,
      "outputs": [
        {
          "output_type": "execute_result",
          "data": {
            "text/plain": [
              "array([[0, 1, 2],\n",
              "       [6, 7, 8]])"
            ]
          },
          "metadata": {},
          "execution_count": 44
        }
      ]
    },
    {
      "cell_type": "markdown",
      "metadata": {
        "id": "kaE8dBGgL9id"
      },
      "source": [
        "Boolean array indexing: 불리언 배열 인덱싱을 통해 배열 속 요소를 취사선택할 수 있습니다. 불리언 배열 인덱싱은 특정 조건을 만족하게 하는 요소만 선택하고자 할 때 자주 사용됩니다. "
      ]
    },
    {
      "cell_type": "code",
      "execution_count": 45,
      "metadata": {
        "colab": {
          "base_uri": "https://localhost:8080/"
        },
        "id": "32PusjtKL9id",
        "outputId": "a6735feb-ae89-4965-dd12-af1801b9b725"
      },
      "outputs": [
        {
          "output_type": "execute_result",
          "data": {
            "text/plain": [
              "array([[1, 2],\n",
              "       [3, 4],\n",
              "       [5, 6]])"
            ]
          },
          "metadata": {},
          "execution_count": 45
        }
      ],
      "source": [
        "import numpy as np\n",
        "\n",
        "a = np.array([[1,2], [3, 4], [5, 6]])\n",
        "a"
      ]
    },
    {
      "cell_type": "code",
      "source": [
        " a > 2"
      ],
      "metadata": {
        "colab": {
          "base_uri": "https://localhost:8080/"
        },
        "id": "0s5csnhB16Qj",
        "outputId": "a251f480-567e-4eb7-d314-a615ed6d2ea4"
      },
      "execution_count": 46,
      "outputs": [
        {
          "output_type": "execute_result",
          "data": {
            "text/plain": [
              "array([[False, False],\n",
              "       [ True,  True],\n",
              "       [ True,  True]])"
            ]
          },
          "metadata": {},
          "execution_count": 46
        }
      ]
    },
    {
      "cell_type": "code",
      "source": [
        "\n",
        "bool_idx = (a > 2)  # Find the elements of a that are bigger than 2;\n",
        "                    # this returns a numpy array of Booleans of the same\n",
        "                    # shape as a, where each slot of bool_idx tells\n",
        "                    # whether that element of a is > 2.\n",
        "\n",
        "print(bool_idx)"
      ],
      "metadata": {
        "colab": {
          "base_uri": "https://localhost:8080/"
        },
        "id": "cGqSJUvP10As",
        "outputId": "ed74c27e-c4e2-40df-b8ba-24cc5fb6b63b"
      },
      "execution_count": 47,
      "outputs": [
        {
          "output_type": "stream",
          "name": "stdout",
          "text": [
            "[[False False]\n",
            " [ True  True]\n",
            " [ True  True]]\n"
          ]
        }
      ]
    },
    {
      "cell_type": "code",
      "execution_count": 48,
      "metadata": {
        "colab": {
          "base_uri": "https://localhost:8080/"
        },
        "id": "cb2IRMXaL9if",
        "outputId": "054f6da9-6e39-4c5c-d363-707787c7c9bd"
      },
      "outputs": [
        {
          "output_type": "stream",
          "name": "stdout",
          "text": [
            "[3 4 5 6]\n"
          ]
        }
      ],
      "source": [
        "# We use boolean array indexing to construct a rank 1 array\n",
        "# consisting of the elements of a corresponding to the True values\n",
        "# of bool_idx\n",
        "print(a[bool_idx])\n",
        "\n"
      ]
    },
    {
      "cell_type": "code",
      "source": [
        "a[   a > 2   ]"
      ],
      "metadata": {
        "colab": {
          "base_uri": "https://localhost:8080/"
        },
        "id": "PER_7Tct2Kcz",
        "outputId": "a1c3cadf-5519-4c09-9c13-82bc50c910e6"
      },
      "execution_count": 49,
      "outputs": [
        {
          "output_type": "execute_result",
          "data": {
            "text/plain": [
              "array([3, 4, 5, 6])"
            ]
          },
          "metadata": {},
          "execution_count": 49
        }
      ]
    },
    {
      "cell_type": "code",
      "source": [
        "a[a>2] = 0\n",
        "a"
      ],
      "metadata": {
        "colab": {
          "base_uri": "https://localhost:8080/"
        },
        "id": "il5FK2ckGDyG",
        "outputId": "05366430-fdfe-4976-b5b0-bdf712198b88"
      },
      "execution_count": 50,
      "outputs": [
        {
          "output_type": "execute_result",
          "data": {
            "text/plain": [
              "array([[1, 2],\n",
              "       [0, 0],\n",
              "       [0, 0]])"
            ]
          },
          "metadata": {},
          "execution_count": 50
        }
      ]
    },
    {
      "cell_type": "markdown",
      "metadata": {
        "id": "jTctwqdQL9ih"
      },
      "source": [
        "##1.3. Datatypes"
      ]
    },
    {
      "cell_type": "markdown",
      "metadata": {
        "id": "kSZQ1WkIL9ih"
      },
      "source": [
        "Numpy 배열은 동일한 자료형을 가지는 값들이 격자판 형태로 있는 것입니다. \n",
        "\n",
        "*   항목 추가\n",
        "*   항목 추가\n",
        "\n",
        "Numpy에선 배열을 구성하는 데 사용할 수 있는 다양한 숫자 자료형을 제공합니다. Numpy는 배열이 생성될 때 자료형을 스스로 추측합니다, 그러나 배열을 생성할 때 명시적으로 특정 자료형을 지정할 수도 있습니다."
      ]
    },
    {
      "cell_type": "code",
      "execution_count": 51,
      "metadata": {
        "colab": {
          "base_uri": "https://localhost:8080/"
        },
        "id": "4za4O0m5L9ih",
        "outputId": "84086ed4-9f0b-461e-c550-2f01130f44d0"
      },
      "outputs": [
        {
          "output_type": "stream",
          "name": "stdout",
          "text": [
            "int64 float64 float64\n"
          ]
        }
      ],
      "source": [
        "x = np.array([1, 2])  # Let numpy choose the datatype\n",
        "y = np.array([1.0, 2.0])  # Let numpy choose the datatype\n",
        "z = np.array([1, 2], dtype=np.float64)  # Force a particular datatype\n",
        "\n",
        "print(x.dtype, y.dtype, z.dtype)"
      ]
    },
    {
      "cell_type": "markdown",
      "metadata": {
        "id": "TuB-fdhIL9ik"
      },
      "source": [
        "##1.4. Array math"
      ]
    },
    {
      "cell_type": "markdown",
      "metadata": {
        "id": "18e8V8elL9ik"
      },
      "source": [
        "기본적인 수학함수는 배열의 각 요소별로 동작하며 연산자를 통해 동작하거나 numpy 함수모듈을 통해 동작합니다:"
      ]
    },
    {
      "cell_type": "code",
      "execution_count": 52,
      "metadata": {
        "colab": {
          "base_uri": "https://localhost:8080/"
        },
        "id": "gHKvBrSKL9il",
        "outputId": "b3473b0e-845d-45bc-a4f5-93d5ff9dde8f"
      },
      "outputs": [
        {
          "output_type": "stream",
          "name": "stdout",
          "text": [
            "[[1. 2.]\n",
            " [3. 4.]]\n",
            "[[5. 6.]\n",
            " [7. 8.]]\n",
            "[[ 6.  8.]\n",
            " [10. 12.]]\n",
            "[[ 6.  8.]\n",
            " [10. 12.]]\n"
          ]
        }
      ],
      "source": [
        "x = np.array([[1,2],[3,4]], dtype=np.float64)\n",
        "y = np.array([[5,6],[7,8]], dtype=np.float64)\n",
        "\n",
        "# Elementwise sum; both produce the array\n",
        "print(x)\n",
        "print(y)\n",
        "print(x + y)\n",
        "print(np.add(x, y))"
      ]
    },
    {
      "cell_type": "code",
      "execution_count": 53,
      "metadata": {
        "colab": {
          "base_uri": "https://localhost:8080/"
        },
        "id": "1fZtIAMxL9in",
        "outputId": "b572f3f1-c36c-4512-e2b2-f2367befcdf9"
      },
      "outputs": [
        {
          "output_type": "stream",
          "name": "stdout",
          "text": [
            "[[-4. -4.]\n",
            " [-4. -4.]]\n",
            "[[-4. -4.]\n",
            " [-4. -4.]]\n"
          ]
        }
      ],
      "source": [
        "# Elementwise difference; both produce the array\n",
        "\n",
        "print(x - y)\n",
        "print(np.subtract(x, y))\n",
        "########## code yourself ##########\n",
        "########## code yourself ##########"
      ]
    },
    {
      "cell_type": "code",
      "execution_count": 54,
      "metadata": {
        "colab": {
          "base_uri": "https://localhost:8080/"
        },
        "id": "nil4AScML9io",
        "outputId": "3d49d41d-8a39-4f09-894f-4e5938745649"
      },
      "outputs": [
        {
          "output_type": "stream",
          "name": "stdout",
          "text": [
            "[[ 5. 12.]\n",
            " [21. 32.]]\n",
            "[[ 5. 12.]\n",
            " [21. 32.]]\n"
          ]
        }
      ],
      "source": [
        "# Elementwise product; both produce the array\n",
        "print(x * y)\n",
        "print(np.multiply(x, y))"
      ]
    },
    {
      "cell_type": "code",
      "execution_count": 55,
      "metadata": {
        "colab": {
          "base_uri": "https://localhost:8080/"
        },
        "id": "0JoA4lH6L9ip",
        "outputId": "d6ef48ca-c350-4363-f65d-0e017e9ee9fd"
      },
      "outputs": [
        {
          "output_type": "stream",
          "name": "stdout",
          "text": [
            "[[0.2        0.33333333]\n",
            " [0.42857143 0.5       ]]\n",
            "[[0.2        0.33333333]\n",
            " [0.42857143 0.5       ]]\n"
          ]
        }
      ],
      "source": [
        "# Elementwise division; both produce the array\n",
        "# [[ 0.2         0.33333333]\n",
        "#  [ 0.42857143  0.5       ]]\n",
        "\n",
        "print(x / y)\n",
        "print(np.divide(x, y))\n",
        "########## code yourself ##########\n",
        "########## code yourself ##########"
      ]
    },
    {
      "cell_type": "code",
      "execution_count": 56,
      "metadata": {
        "colab": {
          "base_uri": "https://localhost:8080/"
        },
        "id": "g0iZuA6bL9ir",
        "outputId": "1a64cc2b-f680-4ab8-e1d5-1c44a1939df7"
      },
      "outputs": [
        {
          "output_type": "stream",
          "name": "stdout",
          "text": [
            "[[1.         1.41421356]\n",
            " [1.73205081 2.        ]]\n"
          ]
        }
      ],
      "source": [
        "# Elementwise square root; produces the array\n",
        "# [[ 1.          1.41421356]\n",
        "#  [ 1.73205081  2.        ]]\n",
        "print(np.sqrt(x))"
      ]
    },
    {
      "cell_type": "code",
      "source": [
        "x ** 0.5"
      ],
      "metadata": {
        "colab": {
          "base_uri": "https://localhost:8080/"
        },
        "id": "UvPhwcu8Y19m",
        "outputId": "215b3c5a-57ba-482e-d7bd-c970152753fa"
      },
      "execution_count": 57,
      "outputs": [
        {
          "output_type": "execute_result",
          "data": {
            "text/plain": [
              "array([[1.        , 1.41421356],\n",
              "       [1.73205081, 2.        ]])"
            ]
          },
          "metadata": {},
          "execution_count": 57
        }
      ]
    },
    {
      "cell_type": "markdown",
      "metadata": {
        "id": "a5d_uujuL9it"
      },
      "source": [
        "MATLAB과 달리, `*` 은 행렬 곱이 아니라 요소별 곱입니다. Numpy에선 벡터의 내적, 벡터와 행렬의 곱, 행렬곱을 위해 `dot` 함수를 사용합니다."
      ]
    },
    {
      "cell_type": "code",
      "execution_count": 58,
      "metadata": {
        "colab": {
          "base_uri": "https://localhost:8080/"
        },
        "id": "I3FnmoSeL9iu",
        "outputId": "1ce4459f-f6a5-402b-a462-4ba30281e4b2"
      },
      "outputs": [
        {
          "output_type": "stream",
          "name": "stdout",
          "text": [
            "[ 9 10]\n",
            "[11 12]\n"
          ]
        }
      ],
      "source": [
        "x = np.array([[1,2],[3,4]])\n",
        "y = np.array([[5,6],[7,8]])\n",
        "\n",
        "v = np.array([9,10])\n",
        "w = np.array([11, 12])\n",
        "\n",
        "print(v)\n",
        "print(w)"
      ]
    },
    {
      "cell_type": "code",
      "source": [
        "# Inner product of vectors; both produce 219\n",
        "print(v.dot(w))\n",
        "print(np.dot(v, w))"
      ],
      "metadata": {
        "colab": {
          "base_uri": "https://localhost:8080/"
        },
        "id": "DfFYmvMT3h1w",
        "outputId": "7721d268-51fd-47a8-f913-cb910212e64e"
      },
      "execution_count": 59,
      "outputs": [
        {
          "output_type": "stream",
          "name": "stdout",
          "text": [
            "219\n",
            "219\n"
          ]
        }
      ]
    },
    {
      "cell_type": "markdown",
      "metadata": {
        "id": "vmxPbrHASVeA"
      },
      "source": [
        "`@` 연산자는 `dot`과 동일한 기능을 수행합니다."
      ]
    },
    {
      "cell_type": "code",
      "execution_count": 60,
      "metadata": {
        "colab": {
          "base_uri": "https://localhost:8080/"
        },
        "id": "vyrWA-mXSdtt",
        "outputId": "efda011b-2fd5-43d3-d56a-f7c8aa9d0876"
      },
      "outputs": [
        {
          "output_type": "stream",
          "name": "stdout",
          "text": [
            "219\n"
          ]
        }
      ],
      "source": [
        "print(v @ w)"
      ]
    },
    {
      "cell_type": "code",
      "source": [
        "x = np.array([[1,2],[3,4]])\n",
        "y = np.array([[5,6],[7,8]])\n",
        "print(x)\n",
        "print(y)"
      ],
      "metadata": {
        "colab": {
          "base_uri": "https://localhost:8080/"
        },
        "id": "ajCTyGho31Ik",
        "outputId": "9e69642f-3a77-4336-8213-326bb90b5c55"
      },
      "execution_count": 61,
      "outputs": [
        {
          "output_type": "stream",
          "name": "stdout",
          "text": [
            "[[1 2]\n",
            " [3 4]]\n",
            "[[5 6]\n",
            " [7 8]]\n"
          ]
        }
      ]
    },
    {
      "cell_type": "code",
      "execution_count": 62,
      "metadata": {
        "colab": {
          "base_uri": "https://localhost:8080/"
        },
        "id": "zvUODeTxL9iw",
        "outputId": "aa34325c-ebb3-47a1-a784-6eadeccd88fd"
      },
      "outputs": [
        {
          "output_type": "stream",
          "name": "stdout",
          "text": [
            "[29 67]\n",
            "[29 67]\n",
            "[29 67]\n"
          ]
        }
      ],
      "source": [
        "# Matrix / vector product; both produce the rank 1 array [29 67]\n",
        "#  (1 2) matrix x     [9   vector v\n",
        "#  (3 4)              10]\n",
        "\n",
        "print(x.dot(v))\n",
        "print(np.dot(x, v))\n",
        "print(x @ v)"
      ]
    },
    {
      "cell_type": "code",
      "execution_count": 63,
      "metadata": {
        "colab": {
          "base_uri": "https://localhost:8080/"
        },
        "id": "3V_3NzNEL9iy",
        "outputId": "e93da07a-9711-4442-a252-a4f3f9d4c29e"
      },
      "outputs": [
        {
          "output_type": "stream",
          "name": "stdout",
          "text": [
            "[[19 22]\n",
            " [43 50]]\n",
            "[[19 22]\n",
            " [43 50]]\n",
            "[[19 22]\n",
            " [43 50]]\n"
          ]
        }
      ],
      "source": [
        "# Matrix / matrix product; both produce the rank 2 array\n",
        "# [[19 22]\n",
        "#  [43 50]]\n",
        "print(x.dot(y))\n",
        "print(np.dot(x, y))\n",
        "print(x @ y)"
      ]
    },
    {
      "cell_type": "markdown",
      "metadata": {
        "id": "FbE-1If_L9i0"
      },
      "source": [
        "Numpy는 배열 연산에 유용하게 쓰이는 많은 함수를 제공합니다. 가장 유용한 건 `sum`함수입니다:"
      ]
    },
    {
      "cell_type": "code",
      "execution_count": 64,
      "metadata": {
        "colab": {
          "base_uri": "https://localhost:8080/"
        },
        "id": "DZUdZvPrL9i0",
        "outputId": "7d4631cb-72a7-47e1-818b-b70a48817cb0"
      },
      "outputs": [
        {
          "output_type": "execute_result",
          "data": {
            "text/plain": [
              "array([[1, 2],\n",
              "       [3, 4]])"
            ]
          },
          "metadata": {},
          "execution_count": 64
        }
      ],
      "source": [
        "x = np.array([[1,2],[3,4]])\n",
        "x"
      ]
    },
    {
      "cell_type": "code",
      "source": [
        "\n",
        "print(np.sum(x))  # Compute sum of all elements; prints \"10\"\n"
      ],
      "metadata": {
        "colab": {
          "base_uri": "https://localhost:8080/"
        },
        "id": "pxJ7RsoC4j4d",
        "outputId": "964836e4-36de-4d63-fe1b-3fff7bed35ca"
      },
      "execution_count": 65,
      "outputs": [
        {
          "output_type": "stream",
          "name": "stdout",
          "text": [
            "10\n"
          ]
        }
      ]
    },
    {
      "cell_type": "code",
      "source": [
        "print(np.sum(x, axis=0))  # Compute sum of each column; prints \"[4 6]\"\n"
      ],
      "metadata": {
        "colab": {
          "base_uri": "https://localhost:8080/"
        },
        "id": "OizJqtGy4n8R",
        "outputId": "d004f0b1-f501-4b37-ca23-8242d14a1abd"
      },
      "execution_count": 66,
      "outputs": [
        {
          "output_type": "stream",
          "name": "stdout",
          "text": [
            "[4 6]\n"
          ]
        }
      ]
    },
    {
      "cell_type": "code",
      "source": [
        "print(np.sum(x, axis=1))  # Compute sum of each row; prints \"[3 7]\""
      ],
      "metadata": {
        "colab": {
          "base_uri": "https://localhost:8080/"
        },
        "id": "-8qw3y6d4z5y",
        "outputId": "07de28fe-fc5f-4c5e-f972-9c255e860059"
      },
      "execution_count": 67,
      "outputs": [
        {
          "output_type": "stream",
          "name": "stdout",
          "text": [
            "[3 7]\n"
          ]
        }
      ]
    },
    {
      "cell_type": "markdown",
      "metadata": {
        "id": "ahdVW4iUL9i3"
      },
      "source": [
        "배열연산을 하지 않더라도, 종종 배열의 모양을 바꾸거나 데이터를 처리해야 할 때가 있습니다. 가장 간단한 예는 행렬의 주 대각선을 기준으로 대칭되는 요소끼리 뒤바꾸는 것입니다:"
      ]
    },
    {
      "cell_type": "code",
      "execution_count": 68,
      "metadata": {
        "colab": {
          "base_uri": "https://localhost:8080/"
        },
        "id": "63Yl1f3oL9i3",
        "outputId": "a6f0312b-62f6-449c-a43c-8248ee0de29f"
      },
      "outputs": [
        {
          "output_type": "stream",
          "name": "stdout",
          "text": [
            "[[1 2]\n",
            " [3 4]]\n",
            "transpose\n",
            " [[1 3]\n",
            " [2 4]]\n"
          ]
        }
      ],
      "source": [
        "print(x)\n",
        "print(\"transpose\\n\", x.T)"
      ]
    },
    {
      "cell_type": "code",
      "execution_count": 69,
      "metadata": {
        "colab": {
          "base_uri": "https://localhost:8080/"
        },
        "id": "mkk03eNIL9i4",
        "outputId": "5736396f-d07a-431d-a104-19d0237ec660"
      },
      "outputs": [
        {
          "output_type": "stream",
          "name": "stdout",
          "text": [
            "[[1 2 3]]\n",
            "transpose\n",
            " [[1]\n",
            " [2]\n",
            " [3]]\n"
          ]
        }
      ],
      "source": [
        "v = np.array([[1,2,3]])\n",
        "print(v )\n",
        "print(\"transpose\\n\", v.T)"
      ]
    },
    {
      "cell_type": "markdown",
      "metadata": {
        "id": "ycNyqIGpLT6G"
      },
      "source": [
        "# 2.Data Split"
      ]
    },
    {
      "cell_type": "code",
      "source": [],
      "metadata": {
        "id": "nkakKXCb53z6"
      },
      "execution_count": 69,
      "outputs": []
    },
    {
      "cell_type": "markdown",
      "metadata": {
        "id": "hTA63HxAgboP"
      },
      "source": [
        "## 2.1. Data Preparation"
      ]
    },
    {
      "cell_type": "code",
      "execution_count": 70,
      "metadata": {
        "id": "f5lfwbwFfx2k"
      },
      "outputs": [],
      "source": [
        "# Sea bream data 도미 데이터\n",
        "bream_length = [25.4, 26.3, 26.5, 29.0, 29.0, 29.7, 29.7, 30.0, 30.0, 30.7, 31.0, 31.0, \n",
        "                31.5, 32.0, 32.0, 32.0, 33.0, 33.0, 33.5, 33.5, 34.0, 34.0, 34.5, 35.0, \n",
        "                35.0, 35.0, 35.0, 36.0, 36.0, 37.0, 38.5, 38.5, 39.5, 41.0, 41.0]\n",
        "bream_weight = [242.0, 290.0, 340.0, 363.0, 430.0, 450.0, 500.0, 390.0, 450.0, 500.0, 475.0, 500.0, \n",
        "                500.0, 340.0, 600.0, 600.0, 700.0, 700.0, 610.0, 650.0, 575.0, 685.0, 620.0, 680.0, \n",
        "                700.0, 725.0, 720.0, 714.0, 850.0, 1000.0, 920.0, 955.0, 925.0, 975.0, 950.0]"
      ]
    },
    {
      "cell_type": "code",
      "execution_count": 71,
      "metadata": {
        "id": "BeOU2QengAiN"
      },
      "outputs": [],
      "source": [
        "# Smelt data 빙어 데이터\n",
        "smelt_length = [9.8, 10.5, 10.6, 11.0, 11.2, 11.3, 11.8, 11.8, 12.0, 12.2, 12.4, 13.0, 14.3, 15.0]\n",
        "smelt_weight = [6.7, 7.5, 7.0, 9.7, 9.8, 8.7, 10.0, 9.9, 9.8, 12.2, 13.4, 12.2, 19.7, 19.9]"
      ]
    },
    {
      "cell_type": "code",
      "source": [
        "len(smelt_length)"
      ],
      "metadata": {
        "colab": {
          "base_uri": "https://localhost:8080/"
        },
        "id": "NmtG46Gx8hqP",
        "outputId": "8a363519-543a-492a-be0e-bf30c1339dd0"
      },
      "execution_count": 72,
      "outputs": [
        {
          "output_type": "execute_result",
          "data": {
            "text/plain": [
              "14"
            ]
          },
          "metadata": {},
          "execution_count": 72
        }
      ]
    },
    {
      "cell_type": "code",
      "execution_count": 73,
      "metadata": {
        "colab": {
          "base_uri": "https://localhost:8080/",
          "height": 449
        },
        "id": "IrnOr4l3gjC_",
        "outputId": "8f7daacf-19fc-4083-9681-43cf09d1213d"
      },
      "outputs": [
        {
          "output_type": "display_data",
          "data": {
            "text/plain": [
              "<Figure size 640x480 with 1 Axes>"
            ],
            "image/png": "[encoded data removed]"
          },
          "metadata": {}
        }
      ],
      "source": [
        "import matplotlib.pyplot as plt\n",
        "\n",
        "plt.scatter(bream_length, bream_weight)\n",
        "plt.scatter(smelt_length, smelt_weight)\n",
        "plt.xlabel('length')\n",
        "plt.ylabel('weight')\n",
        "plt.show()"
      ]
    },
    {
      "cell_type": "markdown",
      "metadata": {
        "id": "Q9aNLafoLT6K"
      },
      "source": [
        "## 2.2. Traning Set / Test Set"
      ]
    },
    {
      "cell_type": "markdown",
      "metadata": {
        "id": "8N4sxaBke8GY"
      },
      "source": [
        "**Training Set**: 훈련에 사용되는 데이터\n",
        "\n",
        "**Test Set**: 평가에 사용하는 데이터\n"
      ]
    },
    {
      "cell_type": "code",
      "execution_count": 74,
      "metadata": {
        "id": "N1oAXHg2Y6DJ"
      },
      "outputs": [],
      "source": [
        "# Create the data of sea bream and smelt into a single list 도미 + 빙어 데이터\n",
        "fish_length = [25.4, 26.3, 26.5, 29.0, 29.0, 29.7, 29.7, 30.0, 30.0, 30.7, 31.0, 31.0, \n",
        "                31.5, 32.0, 32.0, 32.0, 33.0, 33.0, 33.5, 33.5, 34.0, 34.0, 34.5, 35.0, \n",
        "                35.0, 35.0, 35.0, 36.0, 36.0, 37.0, 38.5, 38.5, 39.5, 41.0, 41.0, 9.8, \n",
        "                10.5, 10.6, 11.0, 11.2, 11.3, 11.8, 11.8, 12.0, 12.2, 12.4, 13.0, 14.3, 15.0]\n",
        "fish_weight = [242.0, 290.0, 340.0, 363.0, 430.0, 450.0, 500.0, 390.0, 450.0, 500.0, 475.0, 500.0, \n",
        "                500.0, 340.0, 600.0, 600.0, 700.0, 700.0, 610.0, 650.0, 575.0, 685.0, 620.0, 680.0, \n",
        "                700.0, 725.0, 720.0, 714.0, 850.0, 1000.0, 920.0, 955.0, 925.0, 975.0, 950.0, 6.7, \n",
        "                7.5, 7.0, 9.7, 9.8, 8.7, 10.0, 9.9, 9.8, 12.2, 13.4, 12.2, 19.7, 19.9]"
      ]
    },
    {
      "cell_type": "code",
      "source": [
        "len(fish_length)"
      ],
      "metadata": {
        "colab": {
          "base_uri": "https://localhost:8080/"
        },
        "id": "Wb_N7i-i8zyN",
        "outputId": "0eb8afaa-1342-4d52-88a8-83a7470ee357"
      },
      "execution_count": 75,
      "outputs": [
        {
          "output_type": "execute_result",
          "data": {
            "text/plain": [
              "49"
            ]
          },
          "metadata": {},
          "execution_count": 75
        }
      ]
    },
    {
      "cell_type": "code",
      "execution_count": 76,
      "metadata": {
        "colab": {
          "base_uri": "https://localhost:8080/"
        },
        "id": "4mQxk1Vx7dL5",
        "outputId": "0520270e-60af-438c-cda4-9d0f601abcdd"
      },
      "outputs": [
        {
          "output_type": "stream",
          "name": "stdout",
          "text": [
            "[[25.4, 242.0], [26.3, 290.0], [26.5, 340.0], [29.0, 363.0], [29.0, 430.0], [29.7, 450.0], [29.7, 500.0], [30.0, 390.0], [30.0, 450.0], [30.7, 500.0], [31.0, 475.0], [31.0, 500.0], [31.5, 500.0], [32.0, 340.0], [32.0, 600.0], [32.0, 600.0], [33.0, 700.0], [33.0, 700.0], [33.5, 610.0], [33.5, 650.0], [34.0, 575.0], [34.0, 685.0], [34.5, 620.0], [35.0, 680.0], [35.0, 700.0], [35.0, 725.0], [35.0, 720.0], [36.0, 714.0], [36.0, 850.0], [37.0, 1000.0], [38.5, 920.0], [38.5, 955.0], [39.5, 925.0], [41.0, 975.0], [41.0, 950.0], [9.8, 6.7], [10.5, 7.5], [10.6, 7.0], [11.0, 9.7], [11.2, 9.8], [11.3, 8.7], [11.8, 10.0], [11.8, 9.9], [12.0, 9.8], [12.2, 12.2], [12.4, 13.4], [13.0, 12.2], [14.3, 19.7], [15.0, 19.9]]\n"
          ]
        }
      ],
      "source": [
        "# Making length and weight lists into two-dimensional lists\n",
        "# The zip() function retrieves and returns an element from each of the listed lists\n",
        "fish_data = [[l, w] for l, w in zip(fish_length, fish_weight)]\n",
        "print(fish_data)"
      ]
    },
    {
      "cell_type": "code",
      "execution_count": 77,
      "metadata": {
        "colab": {
          "base_uri": "https://localhost:8080/"
        },
        "id": "Uo9ct7-ddTG1",
        "outputId": "2e439fb8-9b17-4b05-f09e-1ec8b75dcf27"
      },
      "outputs": [
        {
          "output_type": "stream",
          "name": "stdout",
          "text": [
            "[1, 1, 1, 1, 1, 1, 1, 1, 1, 1, 1, 1, 1, 1, 1, 1, 1, 1, 1, 1, 1, 1, 1, 1, 1, 1, 1, 1, 1, 1, 1, 1, 1, 1, 1, 0, 0, 0, 0, 0, 0, 0, 0, 0, 0, 0, 0, 0, 0]\n"
          ]
        }
      ],
      "source": [
        "fish_target = [1]*35 + [0]*14\n",
        "print(fish_target)"
      ]
    },
    {
      "cell_type": "markdown",
      "metadata": {
        "id": "MFeJafWZfUFg"
      },
      "source": [
        "이때 하나의 생선 데이터를 **샘플(sample)** 이라고 부릅니다. \n",
        "\n",
        "도미와 빙어는 각각 35마리, 14마리가 있으므로 전체 데이터는 49개의 샘플이 있습니다. 사용하는 특성은 길이와 무게 2개입니다. \n",
        "\n",
        "이 데이터의 처음 35개를 훈련 세트로, 나머지 14개를 테스트 세트로 사용하겠습니다."
      ]
    },
    {
      "cell_type": "code",
      "execution_count": 78,
      "metadata": {
        "colab": {
          "base_uri": "https://localhost:8080/"
        },
        "id": "H74k3aZQ9hnr",
        "outputId": "198c5456-e752-42f0-afa5-f5f7eab92ac5"
      },
      "outputs": [
        {
          "output_type": "stream",
          "name": "stdout",
          "text": [
            "[29.0, 430.0]\n"
          ]
        }
      ],
      "source": [
        "print(fish_data[4])"
      ]
    },
    {
      "cell_type": "code",
      "execution_count": 79,
      "metadata": {
        "colab": {
          "base_uri": "https://localhost:8080/"
        },
        "id": "6tYXuRGA_4mk",
        "outputId": "d748ca1f-2527-4885-aee8-61bbf2486bb0"
      },
      "outputs": [
        {
          "output_type": "stream",
          "name": "stdout",
          "text": [
            "[[25.4, 242.0], [26.3, 290.0], [26.5, 340.0], [29.0, 363.0], [29.0, 430.0]]\n"
          ]
        }
      ],
      "source": [
        "print(fish_data[0:5])"
      ]
    },
    {
      "cell_type": "code",
      "execution_count": 80,
      "metadata": {
        "colab": {
          "base_uri": "https://localhost:8080/"
        },
        "id": "IFesPu-oB41B",
        "outputId": "9f114201-b1f2-4a7a-97ec-eb1bbd60bfe0"
      },
      "outputs": [
        {
          "output_type": "stream",
          "name": "stdout",
          "text": [
            "[[25.4, 242.0], [26.3, 290.0], [26.5, 340.0], [29.0, 363.0], [29.0, 430.0]]\n"
          ]
        }
      ],
      "source": [
        "print(fish_data[:5])"
      ]
    },
    {
      "cell_type": "code",
      "execution_count": 81,
      "metadata": {
        "colab": {
          "base_uri": "https://localhost:8080/"
        },
        "id": "GSbt5e9ICUKc",
        "outputId": "9f61200c-97a6-4b50-fddb-e90328d57317"
      },
      "outputs": [
        {
          "output_type": "stream",
          "name": "stdout",
          "text": [
            "[[12.2, 12.2], [12.4, 13.4], [13.0, 12.2], [14.3, 19.7], [15.0, 19.9]]\n"
          ]
        }
      ],
      "source": [
        "print(fish_data[44:])"
      ]
    },
    {
      "cell_type": "code",
      "execution_count": 82,
      "metadata": {
        "id": "MqSRWFtpDESU"
      },
      "outputs": [],
      "source": [
        "# Use the 0 to 34th indices among the input values as the training set\n",
        "train_input = fish_data[:35]\n",
        "# Use the 0 to 34th indices among the target values as the training set\n",
        "train_target = fish_target[:35]\n",
        "\n",
        "# Use the 35th to the last index of the input value as the training set\n",
        "test_input = fish_data[35:]\n",
        "# Use the 35th to the last index of the target value as the test set\n",
        "test_target = fish_target[35:]"
      ]
    },
    {
      "cell_type": "code",
      "execution_count": 83,
      "metadata": {
        "colab": {
          "base_uri": "https://localhost:8080/"
        },
        "id": "Z2dqxidv7x00",
        "outputId": "a48d0650-2781-428d-aa2c-17fcc59c8a72"
      },
      "outputs": [
        {
          "output_type": "stream",
          "name": "stdout",
          "text": [
            "[1, 1, 1, 1, 1, 1, 1, 1, 1, 1, 1, 1, 1, 1, 1, 1, 1, 1, 1, 1, 1, 1, 1, 1, 1, 1, 1, 1, 1, 1, 1, 1, 1, 1, 1]\n"
          ]
        }
      ],
      "source": [
        "print(train_target)"
      ]
    },
    {
      "cell_type": "code",
      "execution_count": 84,
      "metadata": {
        "colab": {
          "base_uri": "https://localhost:8080/"
        },
        "id": "Ll_vIcWw7gOQ",
        "outputId": "52d6cf00-dfc7-458f-c405-716447d6dfe1"
      },
      "outputs": [
        {
          "output_type": "stream",
          "name": "stdout",
          "text": [
            "[0, 0, 0, 0, 0, 0, 0, 0, 0, 0, 0, 0, 0, 0]\n"
          ]
        }
      ],
      "source": [
        "print(test_target)"
      ]
    },
    {
      "cell_type": "markdown",
      "source": [
        "![image.png](data:image/png;base64,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)"
      ],
      "metadata": {
        "id": "WJyFxhR8KCZY"
      }
    },
    {
      "cell_type": "markdown",
      "metadata": {
        "id": "YXG68CekophK"
      },
      "source": [
        "위와 같이 마지막 14개를 테스트 세트로 떼어 놓으면 훈련 세트에는 빙어가 하나도 들어 있지 않습니다. 빙어 없이 모델을 훈련하면 빙어를 올바르게 분류할 수 없습니다.\n",
        "\n",
        "따라서, 훈련 세트와 테스트 세트를 나누려면 도미와 빙어가 골고루 섞이게 만들어야 합니다.\n",
        "\n",
        "일반적으로 훈련 세트와 테스트 세트에 샘플이 골고루 섞여 있지 않으면 샘플링이 한쪽으로 치우쳤다는 의미로 **샘플링 편향(sampling bias)**라고 부릅니다.\n",
        "\n"
      ]
    },
    {
      "cell_type": "markdown",
      "metadata": {
        "id": "YBRxz4JBLT6O"
      },
      "source": [
        "## 2.3. Random Sampling"
      ]
    },
    {
      "cell_type": "code",
      "execution_count": 85,
      "metadata": {
        "id": "kdoec4RBcrZU"
      },
      "outputs": [],
      "source": [
        "import numpy as np"
      ]
    },
    {
      "cell_type": "code",
      "execution_count": 86,
      "metadata": {
        "id": "j_NMsjZweD3b"
      },
      "outputs": [],
      "source": [
        "# Converting a Python List to a Numpy Array\n",
        "input_arr = np.array(fish_data)\n",
        "target_arr = np.array(fish_target)"
      ]
    },
    {
      "cell_type": "code",
      "execution_count": 87,
      "metadata": {
        "colab": {
          "base_uri": "https://localhost:8080/"
        },
        "id": "H8t38rejifbv",
        "outputId": "a6a2d3e5-ddb1-4930-c21c-13c28201283a"
      },
      "outputs": [
        {
          "output_type": "stream",
          "name": "stdout",
          "text": [
            "[[  25.4  242. ]\n",
            " [  26.3  290. ]\n",
            " [  26.5  340. ]\n",
            " [  29.   363. ]\n",
            " [  29.   430. ]\n",
            " [  29.7  450. ]\n",
            " [  29.7  500. ]\n",
            " [  30.   390. ]\n",
            " [  30.   450. ]\n",
            " [  30.7  500. ]\n",
            " [  31.   475. ]\n",
            " [  31.   500. ]\n",
            " [  31.5  500. ]\n",
            " [  32.   340. ]\n",
            " [  32.   600. ]\n",
            " [  32.   600. ]\n",
            " [  33.   700. ]\n",
            " [  33.   700. ]\n",
            " [  33.5  610. ]\n",
            " [  33.5  650. ]\n",
            " [  34.   575. ]\n",
            " [  34.   685. ]\n",
            " [  34.5  620. ]\n",
            " [  35.   680. ]\n",
            " [  35.   700. ]\n",
            " [  35.   725. ]\n",
            " [  35.   720. ]\n",
            " [  36.   714. ]\n",
            " [  36.   850. ]\n",
            " [  37.  1000. ]\n",
            " [  38.5  920. ]\n",
            " [  38.5  955. ]\n",
            " [  39.5  925. ]\n",
            " [  41.   975. ]\n",
            " [  41.   950. ]\n",
            " [   9.8    6.7]\n",
            " [  10.5    7.5]\n",
            " [  10.6    7. ]\n",
            " [  11.     9.7]\n",
            " [  11.2    9.8]\n",
            " [  11.3    8.7]\n",
            " [  11.8   10. ]\n",
            " [  11.8    9.9]\n",
            " [  12.     9.8]\n",
            " [  12.2   12.2]\n",
            " [  12.4   13.4]\n",
            " [  13.    12.2]\n",
            " [  14.3   19.7]\n",
            " [  15.    19.9]]\n"
          ]
        }
      ],
      "source": [
        "# 49 rows and 2 columns\n",
        "print(input_arr)"
      ]
    },
    {
      "cell_type": "code",
      "execution_count": 88,
      "metadata": {
        "colab": {
          "base_uri": "https://localhost:8080/"
        },
        "id": "cPMqX_1qluYe",
        "outputId": "556173b5-8c7b-4abd-c56c-cc8959da878c"
      },
      "outputs": [
        {
          "output_type": "stream",
          "name": "stdout",
          "text": [
            "(49, 2)\n"
          ]
        }
      ],
      "source": [
        "# (number of samples, number of features) output\n",
        "print(input_arr.shape)"
      ]
    },
    {
      "cell_type": "markdown",
      "metadata": {
        "id": "Fwsh1oWpLqtC"
      },
      "source": [
        "넘파이에서 무작위 결과를 만드는 함수들은 실행할 때마다 다른 결과를 만듭니다. 일정한 결과를 얻으려면 초기에 random seed를 지정하면 됩니다.\n",
        "\n",
        "arrange() 함수를 사용하면 0에서부터 48까지 1씩 증가하는 인덱스를 간단히 만들 수 있습니다.\n",
        "\n",
        "shuffle() 함수는 주어진 배열을 무작위로 섞습니다.\n"
      ]
    },
    {
      "cell_type": "code",
      "execution_count": 89,
      "metadata": {
        "id": "8ZKi6avTeKaB",
        "colab": {
          "base_uri": "https://localhost:8080/"
        },
        "outputId": "7ebfd42e-02b4-4c7e-8532-9aaffbb656d4"
      },
      "outputs": [
        {
          "output_type": "stream",
          "name": "stdout",
          "text": [
            "[ 0  1  2  3  4  5  6  7  8  9 10 11 12 13 14 15 16 17 18 19 20 21 22 23\n",
            " 24 25 26 27 28 29 30 31 32 33 34 35 36 37 38 39 40 41 42 43 44 45 46 47\n",
            " 48]\n"
          ]
        }
      ],
      "source": [
        "# Data shuffling\n",
        "\n",
        "# The random.seed() function sets the seed needed to generate random numbers\n",
        "np.random.seed(42)\n",
        "index = np.arange(49)\n",
        "print(index)\n"
      ]
    },
    {
      "cell_type": "code",
      "source": [
        "np.random.shuffle(index)"
      ],
      "metadata": {
        "id": "LigcGN1hqIw5"
      },
      "execution_count": 90,
      "outputs": []
    },
    {
      "cell_type": "code",
      "execution_count": 91,
      "metadata": {
        "colab": {
          "base_uri": "https://localhost:8080/"
        },
        "id": "Ndz46Y7aoS9h",
        "outputId": "abc3c142-a63f-4723-b03a-26dce37b19e5"
      },
      "outputs": [
        {
          "output_type": "stream",
          "name": "stdout",
          "text": [
            "[13 45 47 44 17 27 26 25 31 19 12  4 34  8  3  6 40 41 46 15  9 16 24 33\n",
            " 30  0 43 32  5 29 11 36  1 21  2 37 35 23 39 10 22 18 48 20  7 42 14 28\n",
            " 38]\n"
          ]
        }
      ],
      "source": [
        "print(index)"
      ]
    },
    {
      "cell_type": "code",
      "execution_count": 92,
      "metadata": {
        "colab": {
          "base_uri": "https://localhost:8080/"
        },
        "id": "m_OYZlI1yicM",
        "outputId": "48b2aed7-6480-4688-dd7e-52048b41815a"
      },
      "outputs": [
        {
          "output_type": "stream",
          "name": "stdout",
          "text": [
            "[[ 26.3 290. ]\n",
            " [ 29.  363. ]]\n"
          ]
        }
      ],
      "source": [
        "print(input_arr[[1,3]])"
      ]
    },
    {
      "cell_type": "markdown",
      "metadata": {
        "id": "faqI3_jWuPec"
      },
      "source": [
        "비슷한 방식으로 리스트 대신 넘파이 배열을 인덱스로 전달할 수도 있습니다.\n",
        "\n",
        "앞서 만든 index 배열의 처음 35개를 input_arr와 target_arr에 전달하여 랜덤하게 35개의 샘플을 훈련 세트로 만들겠습니다."
      ]
    },
    {
      "cell_type": "code",
      "execution_count": 93,
      "metadata": {
        "id": "o_MTsZW3eg96"
      },
      "outputs": [],
      "source": [
        "train_input = input_arr[index[:35]]\n",
        "train_target = target_arr[index[:35]]"
      ]
    },
    {
      "cell_type": "code",
      "execution_count": 94,
      "metadata": {
        "colab": {
          "base_uri": "https://localhost:8080/"
        },
        "id": "6OPeDK9fpxH_",
        "outputId": "0720eb25-4204-4aa0-f17f-46c4068a4c8b"
      },
      "outputs": [
        {
          "output_type": "stream",
          "name": "stdout",
          "text": [
            "[[  32.   340. ]\n",
            " [  12.4   13.4]\n",
            " [  14.3   19.7]\n",
            " [  12.2   12.2]\n",
            " [  33.   700. ]\n",
            " [  36.   714. ]\n",
            " [  35.   720. ]\n",
            " [  35.   725. ]\n",
            " [  38.5  955. ]\n",
            " [  33.5  650. ]\n",
            " [  31.5  500. ]\n",
            " [  29.   430. ]\n",
            " [  41.   950. ]\n",
            " [  30.   450. ]\n",
            " [  29.   363. ]\n",
            " [  29.7  500. ]\n",
            " [  11.3    8.7]\n",
            " [  11.8   10. ]\n",
            " [  13.    12.2]\n",
            " [  32.   600. ]\n",
            " [  30.7  500. ]\n",
            " [  33.   700. ]\n",
            " [  35.   700. ]\n",
            " [  41.   975. ]\n",
            " [  38.5  920. ]\n",
            " [  25.4  242. ]\n",
            " [  12.     9.8]\n",
            " [  39.5  925. ]\n",
            " [  29.7  450. ]\n",
            " [  37.  1000. ]\n",
            " [  31.   500. ]\n",
            " [  10.5    7.5]\n",
            " [  26.3  290. ]\n",
            " [  34.   685. ]\n",
            " [  26.5  340. ]]\n"
          ]
        }
      ],
      "source": [
        "print(train_input)"
      ]
    },
    {
      "cell_type": "code",
      "execution_count": 95,
      "metadata": {
        "colab": {
          "base_uri": "https://localhost:8080/"
        },
        "id": "hmO5KDSlBhtt",
        "outputId": "301a0507-0800-42af-e344-e1ffd1c4c0b4"
      },
      "outputs": [
        {
          "output_type": "stream",
          "name": "stdout",
          "text": [
            "[ 32. 340.] [ 32. 340.]\n"
          ]
        }
      ],
      "source": [
        "print(input_arr[13], train_input[0])"
      ]
    },
    {
      "cell_type": "markdown",
      "metadata": {
        "id": "9Mqwlq4gumv3"
      },
      "source": [
        "나머지 14개를 테스트 세트로 만들어 보겠습니다."
      ]
    },
    {
      "cell_type": "code",
      "execution_count": 96,
      "metadata": {
        "id": "NUNTa8G9gqw2"
      },
      "outputs": [],
      "source": [
        "test_input = input_arr[index[35:]]\n",
        "test_target = target_arr[index[35:]]"
      ]
    },
    {
      "cell_type": "code",
      "execution_count": 97,
      "metadata": {
        "colab": {
          "base_uri": "https://localhost:8080/",
          "height": 449
        },
        "id": "gbnl1bpoiR0x",
        "outputId": "da80a0d8-5221-461b-d148-001c186a68a3"
      },
      "outputs": [
        {
          "output_type": "display_data",
          "data": {
            "text/plain": [
              "<Figure size 640x480 with 1 Axes>"
            ],
            "image/png": "[encoded data removed]"
          },
          "metadata": {}
        }
      ],
      "source": [
        "import matplotlib.pyplot as plt\n",
        "\n",
        "plt.scatter(train_input[:, 0], train_input[:, 1])\n",
        "plt.scatter(test_input[:, 0], test_input[:, 1])\n",
        "plt.xlabel('length')\n",
        "plt.ylabel('weight')\n",
        "plt.show()"
      ]
    },
    {
      "cell_type": "code",
      "source": [
        "plt.scatter(train_input[:, 0], train_input[:, 1])\n",
        "plt.show()"
      ],
      "metadata": {
        "colab": {
          "base_uri": "https://localhost:8080/",
          "height": 430
        },
        "id": "XooV-OUop4lR",
        "outputId": "7fa3fd8b-a356-48c3-b261-4c246efbeb48"
      },
      "execution_count": 98,
      "outputs": [
        {
          "output_type": "display_data",
          "data": {
            "text/plain": [
              "<Figure size 640x480 with 1 Axes>"
            ],
            "image/png": "[encoded data removed]"
          },
          "metadata": {}
        }
      ]
    },
    {
      "cell_type": "code",
      "source": [
        "plt.scatter(test_input[:, 0], test_input[:, 1])\n",
        "plt.show()"
      ],
      "metadata": {
        "colab": {
          "base_uri": "https://localhost:8080/",
          "height": 430
        },
        "id": "rnWhvLRpp5-z",
        "outputId": "6dacb8d4-2cd7-4843-8f1d-563f9c45e888"
      },
      "execution_count": 99,
      "outputs": [
        {
          "output_type": "display_data",
          "data": {
            "text/plain": [
              "<Figure size 640x480 with 1 Axes>"
            ],
            "image/png": "[encoded data removed]"
          },
          "metadata": {}
        }
      ]
    },
    {
      "cell_type": "code",
      "source": [],
      "metadata": {
        "id": "-gzlqd2RDEJa"
      },
      "execution_count": 99,
      "outputs": []
    }
  ],
  "metadata": {
    "colab": {
      "provenance": []
    },
    "kernelspec": {
      "display_name": "Python 3 (ipykernel)",
      "language": "python",
      "name": "python3"
    },
    "language_info": {
      "codemirror_mode": {
        "name": "ipython",
        "version": 3
      },
      "file_extension": ".py",
      "mimetype": "text/x-python",
      "name": "python",
      "nbconvert_exporter": "python",
      "pygments_lexer": "ipython3",
      "version": "3.7.3"
    }
  },
  "nbformat": 4,
  "nbformat_minor": 0
}