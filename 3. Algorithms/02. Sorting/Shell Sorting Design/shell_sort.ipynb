{
 "cells": [
  {
   "cell_type": "code",
   "execution_count": 1,
   "metadata": {
    "id": "6crqESeZHIA7"
   },
   "outputs": [],
   "source": [
    "import numpy as np\n",
    "import time"
   ]
  },
  {
   "cell_type": "code",
   "execution_count": 2,
   "metadata": {
    "id": "taATxyRkFyFR"
   },
   "outputs": [],
   "source": [
    "def shell_sort(arr, N):\n",
    "  h = 1\n",
    "  while h < len(arr):\n",
    "    h = 3*h + 1\n",
    "  h = h//3\n",
    "\n",
    "  while h > 0:\n",
    "    for i in range(h, N):\n",
    "      v = arr[i]\n",
    "      j = i\n",
    "      while j >= h and arr[j-h] > v:\n",
    "        arr[j] = arr[j-h]\n",
    "        j = j - h\n",
    "      arr[j] = v\n",
    "    h = h//3\n",
    "  \n",
    "  return arr"
   ]
  },
  {
   "cell_type": "code",
   "execution_count": 3,
   "metadata": {
    "id": "6kBSEL05JFgH"
   },
   "outputs": [],
   "source": [
    "def check_sort(arr, N):\n",
    "  sorted = True\n",
    "\n",
    "  for i in range(N-1):\n",
    "    if arr[i] > arr[i+1]:\n",
    "      sorted = False\n",
    "    if sorted == False:\n",
    "      break;\n",
    "  \n",
    "  if sorted == True:\n",
    "    print(\"정렬 완료.\")\n",
    "  else:\n",
    "    print(\"정렬 오류!!\")\n",
    "    print(arr)"
   ]
  },
  {
   "cell_type": "code",
   "execution_count": 4,
   "metadata": {
    "colab": {
     "base_uri": "https://localhost:8080/"
    },
    "id": "7f8JfSeIHOUJ",
    "outputId": "76851135-5ab2-46d7-c4df-204fd278392c"
   },
   "outputs": [
    {
     "name": "stdout",
     "output_type": "stream",
     "text": [
      "증가식 : 3h + 1, 감소식 : h/3, 쉘 정렬 시간 (N = 100000) : 1.46 sec\n",
      "정렬 완료.\n",
      "증가식 : 3h + 1, 감소식 : h/3, 쉘 정렬 시간 (N = 500000) : 10.5 sec\n",
      "정렬 완료.\n",
      "증가식 : 3h + 1, 감소식 : h/3, 쉘 정렬 시간 (N = 1000000) : 25.62 sec\n",
      "정렬 완료.\n",
      "증가식 : 3h + 1, 감소식 : h/3, 쉘 정렬 시간 (N = 5000000) : 180.32 sec\n",
      "정렬 완료.\n",
      "증가식 : 3h + 1, 감소식 : h/3, 쉘 정렬 시간 (N = 10000000) : 403.73 sec\n",
      "정렬 완료.\n"
     ]
    }
   ],
   "source": [
    "time_list = []\n",
    "N_list = [100000, 500000, 1000000, 5000000, 10000000]\n",
    "for N in N_list:\n",
    "  arr = np.random.randint(low=-N, high=N, size=N) # 길이가 N개인 임의의 리스트를 생성\n",
    "  start = time.time()\n",
    "  shell_sort(arr, N)\n",
    "  time_list.append(round(time.time() - start, 2))\n",
    "  print(f\"증가식 : 3h + 1, 감소식 : h/3, 쉘 정렬 시간 (N = {N}) : {time_list[-1]} sec\")\n",
    "\n",
    "  check_sort(arr, N)"
   ]
  },
  {
   "cell_type": "code",
   "execution_count": 5,
   "metadata": {
    "id": "GopjxH3ndAY1"
   },
   "outputs": [],
   "source": [
    "def shell_sort2(arr, N):\n",
    "  h = 1\n",
    "  while h < len(arr):\n",
    "    h = 3*h\n",
    "  h = h//3\n",
    "\n",
    "  while h > 0:\n",
    "    for i in range(h, N):\n",
    "      v = arr[i]\n",
    "      j = i\n",
    "      while j >= h and arr[j-h] > v:\n",
    "        arr[j] = arr[j-h]\n",
    "        j = j - h\n",
    "      arr[j] = v\n",
    "    h = h//3\n",
    "  \n",
    "  return arr"
   ]
  },
  {
   "cell_type": "code",
   "execution_count": 6,
   "metadata": {
    "colab": {
     "base_uri": "https://localhost:8080/"
    },
    "id": "u2UhE4crdGvm",
    "outputId": "ff651c83-8cbf-4658-9f27-f03b39d10c72"
   },
   "outputs": [
    {
     "name": "stdout",
     "output_type": "stream",
     "text": [
      "증가식 : 3h, 감소식 : h/3, 쉘 정렬 시간 (N = 100000) : 7.91 sec\n",
      "정렬 완료.\n",
      "증가식 : 3h, 감소식 : h/3, 쉘 정렬 시간 (N = 500000) : 88.38 sec\n",
      "정렬 완료.\n",
      "증가식 : 3h, 감소식 : h/3, 쉘 정렬 시간 (N = 1000000) : 243.54 sec\n",
      "정렬 완료.\n",
      "증가식 : 3h, 감소식 : h/3, 쉘 정렬 시간 (N = 5000000) : 3298.64 sec\n",
      "정렬 완료.\n",
      "증가식 : 3h, 감소식 : h/3, 쉘 정렬 시간 (N = 10000000) : 6002.13 sec\n",
      "정렬 완료.\n"
     ]
    }
   ],
   "source": [
    "time_list2 = []\n",
    "N_list = [100000, 500000, 1000000, 5000000, 10000000]\n",
    "for N in N_list:\n",
    "  arr = np.random.randint(low=-N, high=N, size=N) # 길이가 N개인 임의의 리스트를 생성\n",
    "  start = time.time()\n",
    "  shell_sort2(arr, N)\n",
    "  time_list2.append(round(time.time() - start, 2))\n",
    "  print(f\"증가식 : 3h, 감소식 : h/3, 쉘 정렬 시간 (N = {N}) : {time_list2[-1]} sec\")\n",
    "\n",
    "  check_sort(arr, N)"
   ]
  },
  {
   "cell_type": "code",
   "execution_count": 7,
   "metadata": {
    "id": "DFuvnFEedQuM"
   },
   "outputs": [],
   "source": [
    "def shell_sort3(arr, N):\n",
    "  h = 1\n",
    "  while h < len(arr):\n",
    "    h = 5*h + 1\n",
    "  h = h//5\n",
    "\n",
    "  while h > 0:\n",
    "    for i in range(h, N):\n",
    "      v = arr[i]\n",
    "      j = i\n",
    "      while j >= h and arr[j-h] > v:\n",
    "        arr[j] = arr[j-h]\n",
    "        j = j - h\n",
    "      arr[j] = v\n",
    "    h = h//5\n",
    "  \n",
    "  return arr"
   ]
  },
  {
   "cell_type": "code",
   "execution_count": 8,
   "metadata": {
    "id": "QPX_4GameGcs"
   },
   "outputs": [
    {
     "name": "stdout",
     "output_type": "stream",
     "text": [
      "증가식 : 5h + 1, 감소식 : h/5, 쉘 정렬 시간 (N = 100000) : 1.7 sec\n",
      "정렬 완료.\n",
      "증가식 : 5h + 1, 감소식 : h/5, 쉘 정렬 시간 (N = 500000) : 11.98 sec\n",
      "정렬 완료.\n",
      "증가식 : 5h + 1, 감소식 : h/5, 쉘 정렬 시간 (N = 1000000) : 29.44 sec\n",
      "정렬 완료.\n",
      "증가식 : 5h + 1, 감소식 : h/5, 쉘 정렬 시간 (N = 5000000) : 208.2 sec\n",
      "정렬 완료.\n",
      "증가식 : 5h + 1, 감소식 : h/5, 쉘 정렬 시간 (N = 10000000) : 502.17 sec\n",
      "정렬 완료.\n"
     ]
    }
   ],
   "source": [
    "time_list3 = []\n",
    "N_list = [100000, 500000, 1000000, 5000000, 10000000]\n",
    "for N in N_list:\n",
    "  arr = np.random.randint(low=-N, high=N, size=N) # 길이가 N개인 임의의 리스트를 생성\n",
    "  start = time.time()\n",
    "  shell_sort3(arr, N)\n",
    "  time_list3.append(round(time.time() - start, 2))\n",
    "  print(f\"증가식 : 5h + 1, 감소식 : h/5, 쉘 정렬 시간 (N = {N}) : {time_list3[-1]} sec\")\n",
    "\n",
    "  check_sort(arr, N)"
   ]
  },
  {
   "cell_type": "code",
   "execution_count": 9,
   "metadata": {
    "id": "lbNfV4tmHcQ7"
   },
   "outputs": [],
   "source": [
    "import matplotlib.pyplot as plt\n"
   ]
  },
  {
   "cell_type": "code",
   "execution_count": 10,
   "metadata": {
    "colab": {
     "base_uri": "https://localhost:8080/",
     "height": 311
    },
    "id": "ifPVY-PiUk4t",
    "outputId": "12cf2b7e-fb1e-41c7-b362-0448dff0e7e3"
   },
   "outputs": [
    {
     "data": {
      "image/png": "[encoded data removed]",
      "text/plain": [
       "<Figure size 432x288 with 1 Axes>"
      ]
     },
     "metadata": {
      "needs_background": "light"
     },
     "output_type": "display_data"
    }
   ],
   "source": [
    "plt.title(\"Comparison of time required by N value\")\n",
    "\n",
    "plt.plot(N_list, time_list, color='r', marker='o', label=\"h=3h+1, h=h/3\")\n",
    "plt.plot(N_list, time_list2, color='g', marker='^', label=\"h=3h, h=h/3\")\n",
    "plt.plot(N_list, time_list3, color='b', marker='s', label=\"h=5h+1, h=h/5\")\n",
    "\n",
    "plt.legend()\n",
    "plt.show()"
   ]
  }
 ],
 "metadata": {
  "colab": {
   "name": "shell_sort.ipynb",
   "provenance": []
  },
  "kernelspec": {
   "display_name": "Python 3 (ipykernel)",
   "language": "python",
   "name": "python3"
  },
  "language_info": {
   "codemirror_mode": {
    "name": "ipython",
    "version": 3
   },
   "file_extension": ".py",
   "mimetype": "text/x-python",
   "name": "python",
   "nbconvert_exporter": "python",
   "pygments_lexer": "ipython3",
   "version": "3.7.9"
  }
 },
 "nbformat": 4,
 "nbformat_minor": 1
}
