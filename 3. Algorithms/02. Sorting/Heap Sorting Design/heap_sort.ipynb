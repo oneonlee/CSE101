{
  "nbformat": 4,
  "nbformat_minor": 0,
  "metadata": {
    "colab": {
      "name": "heap_sort.ipynb",
      "provenance": [],
      "collapsed_sections": []
    },
    "kernelspec": {
      "name": "python3",
      "display_name": "Python 3"
    },
    "language_info": {
      "name": "python"
    }
  },
  "cells": [
    {
      "cell_type": "code",
      "source": [
        "import numpy as np\n",
        "import time"
      ],
      "metadata": {
        "id": "mvWnKqAOS65_"
      },
      "execution_count": null,
      "outputs": []
    },
    {
      "cell_type": "code",
      "source": [
        "def max_heapify(arr, idx, n):\n",
        "  while 2*idx+1 < n:\n",
        "    L = 2*idx+1\n",
        "    R = 2*idx+2\n",
        "\n",
        "    if arr[idx] < arr[L]:\n",
        "      m = L\n",
        "\n",
        "    else:\n",
        "      m = idx\n",
        "\n",
        "    if R < n and arr[m] < arr[R]:\n",
        "      m = R\n",
        "\n",
        "    if idx != m:\n",
        "      arr[idx], arr[m] = arr[m], arr[idx]\n",
        "      idx = m\n",
        "\n",
        "    else:\n",
        "      break\n",
        "\n",
        "def min_heapify(arr, idx, n):\n",
        "  while 2*idx+1 < n:\n",
        "    L = 2*idx+1\n",
        "    R = 2*idx+2\n",
        "\n",
        "    if arr[idx] > arr[L]:\n",
        "      m = L\n",
        "\n",
        "    else:\n",
        "      m = idx\n",
        "\n",
        "    if R < n and arr[m] > arr[R]:\n",
        "      m = R\n",
        "\n",
        "    if idx != m:\n",
        "      arr[idx], arr[m] = arr[m], arr[idx]\n",
        "      idx = m\n",
        "\n",
        "    else:\n",
        "      break\n",
        "\n",
        "def make_heap(arr, isMaxHeap):\n",
        "  if isMaxHeap == True:\n",
        "    for i in range(len(arr)//2, -1, -1):\n",
        "      max_heapify(arr, i, len(arr))\n",
        "\n",
        "  else:\n",
        "    for i in range(len(arr)//2, -1, -1):\n",
        "      min_heapify(arr, i, len(arr))"
      ],
      "metadata": {
        "id": "FKdLWLiDM97T"
      },
      "execution_count": null,
      "outputs": []
    },
    {
      "cell_type": "code",
      "source": [
        "def heap_sort(arr, isMaxHeap):\n",
        "  make_heap(arr, isMaxHeap)\n",
        "  n = len(arr)\n",
        "\n",
        "  if isMaxHeap == True:\n",
        "    for i in range(len(arr)-1):\n",
        "      arr[0], arr[n-1] = arr[n-1], arr[0]\n",
        "      n = n-1\n",
        "\n",
        "      max_heapify(arr, 0, n)\n",
        "\n",
        "  else:\n",
        "    for i in range(len(arr)-1):\n",
        "      arr[0], arr[n-1] = arr[n-1], arr[0]\n",
        "      n = n-1\n",
        "\n",
        "      min_heapify(arr, 0, n)\n",
        "\n",
        "  return arr"
      ],
      "metadata": {
        "id": "b4uQWYFLYNX0"
      },
      "execution_count": null,
      "outputs": []
    },
    {
      "cell_type": "code",
      "source": [
        "def check_sort(arr, N, isMaxHeap):\n",
        "  sorted = True\n",
        "\n",
        "  if isMaxHeap==True:\n",
        "    for i in range(N-1):\n",
        "      if arr[i] > arr[i+1]:\n",
        "        sorted = False\n",
        "      if sorted == False:\n",
        "        break;\n",
        "    \n",
        "    if sorted == True:\n",
        "      print(\"Maxheap sorting complete!\")\n",
        "    else:\n",
        "      print(\"Maxheap sorting error!!!\")\n",
        "\n",
        "  else:\n",
        "    for i in range(N-1):\n",
        "      if arr[i] < arr[i+1]:\n",
        "        sorted = False\n",
        "      if sorted == False:\n",
        "        break;\n",
        "    \n",
        "    if sorted == True:\n",
        "      print(\"Minheap sorting complete!\")\n",
        "    else:\n",
        "      print(\"Minheap sorting error!!!\")"
      ],
      "metadata": {
        "id": "KnbG7mnlTtg8"
      },
      "execution_count": null,
      "outputs": []
    },
    {
      "cell_type": "code",
      "source": [
        "print(\"MaxHeap 정렬 결과\")\n",
        "print(heap_sort([6, 2, 8, 1, 3, 9, 4, 5, 10, 7], isMaxHeap=True))\n",
        "print(\"MinHeap 정렬 결과\")\n",
        "print(heap_sort([6, 2, 8, 1, 3, 9, 4, 5, 10, 7], isMaxHeap=False))"
      ],
      "metadata": {
        "colab": {
          "base_uri": "https://localhost:8080/"
        },
        "id": "okOyNEmfMXsF",
        "outputId": "42eea6bd-ac90-4c58-91f8-c04a02a73238"
      },
      "execution_count": null,
      "outputs": [
        {
          "output_type": "stream",
          "name": "stdout",
          "text": [
            "MaxHeap 정렬 결과\n",
            "[1, 2, 3, 4, 5, 6, 7, 8, 9, 10]\n",
            "MinHeap 정렬 결과\n",
            "[10, 9, 8, 7, 6, 5, 4, 3, 2, 1]\n"
          ]
        }
      ]
    },
    {
      "cell_type": "code",
      "source": [
        "N_list = [10000, 50000, 100000, 500000, 1000000]\n",
        "\n",
        "for N in N_list:\n",
        "  arr = np.random.randint(low=0, high=N, size=N) # 길이가 N개인 임의의 리스트를 생성\n",
        "\n",
        "  isMaxHeap=True\n",
        "  start = time.time()  \n",
        "  sorted_arr = heap_sort(arr.copy(), isMaxHeap)\n",
        "  cost = round(time.time() - start, 2)\n",
        "  check_sort(sorted_arr, N, isMaxHeap)\n",
        "  print(f\"Maxheap sorting (N={N}) time cost : {cost}sec\")\n",
        "\n",
        "  isMaxHeap=False\n",
        "  start = time.time()  \n",
        "  sorted_arr = heap_sort(arr.copy(), isMaxHeap)\n",
        "  cost = round(time.time() - start, 2)\n",
        "  check_sort(sorted_arr, N, isMaxHeap)\n",
        "  print(f\"Minheap sorting (N={N}) time cost : {cost}sec\\n\")"
      ],
      "metadata": {
        "colab": {
          "base_uri": "https://localhost:8080/"
        },
        "id": "311lqcuiYyqb",
        "outputId": "acdf8f0c-8d01-42d5-d199-03681eb50990"
      },
      "execution_count": null,
      "outputs": [
        {
          "output_type": "stream",
          "name": "stdout",
          "text": [
            "Maxheap sorting complete!\n",
            "Maxheap sorting (N=10000) time cost : 0.14sec\n",
            "Minheap sorting complete!\n",
            "Minheap sorting (N=10000) time cost : 0.14sec\n",
            "\n",
            "Maxheap sorting complete!\n",
            "Maxheap sorting (N=50000) time cost : 0.84sec\n",
            "Minheap sorting complete!\n",
            "Minheap sorting (N=50000) time cost : 0.85sec\n",
            "\n",
            "Maxheap sorting complete!\n",
            "Maxheap sorting (N=100000) time cost : 1.77sec\n",
            "Minheap sorting complete!\n",
            "Minheap sorting (N=100000) time cost : 1.74sec\n",
            "\n",
            "Maxheap sorting complete!\n",
            "Maxheap sorting (N=500000) time cost : 10.14sec\n",
            "Minheap sorting complete!\n",
            "Minheap sorting (N=500000) time cost : 10.08sec\n",
            "\n",
            "Maxheap sorting complete!\n",
            "Maxheap sorting (N=1000000) time cost : 21.53sec\n",
            "Minheap sorting complete!\n",
            "Minheap sorting (N=1000000) time cost : 21.56sec\n",
            "\n"
          ]
        }
      ]
    },
    {
      "cell_type": "code",
      "source": [
        ""
      ],
      "metadata": {
        "id": "7uBfKVnBYzF0"
      },
      "execution_count": null,
      "outputs": []
    }
  ]
}