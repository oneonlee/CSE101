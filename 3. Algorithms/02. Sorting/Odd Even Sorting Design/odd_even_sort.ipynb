{
  "nbformat": 4,
  "nbformat_minor": 0,
  "metadata": {
    "colab": {
      "name": "odd_even_sort.ipynb",
      "provenance": [],
      "collapsed_sections": []
    },
    "kernelspec": {
      "name": "python3",
      "display_name": "Python 3"
    },
    "language_info": {
      "name": "python"
    }
  },
  "cells": [
    {
      "cell_type": "code",
      "source": [
        "import numpy as np\n",
        "import time\n",
        "import matplotlib.pyplot as plt"
      ],
      "metadata": {
        "id": "6crqESeZHIA7"
      },
      "execution_count": 1,
      "outputs": []
    },
    {
      "cell_type": "code",
      "source": [
        "def check_sort(arr, N):\n",
        "  sorted = True\n",
        "\n",
        "  for i in range(N-1):\n",
        "    if arr[i] > arr[i+1]:\n",
        "      sorted = False\n",
        "    if sorted == False:\n",
        "      break;\n",
        "  \n",
        "  return sorted"
      ],
      "metadata": {
        "id": "6kBSEL05JFgH"
      },
      "execution_count": 2,
      "outputs": []
    },
    {
      "cell_type": "code",
      "source": [
        "def odd_even_sort(arr, n):\n",
        "  isSorted = False\n",
        "  while isSorted == False:\n",
        "    isSorted = True\n",
        "    temp = 0\n",
        "\n",
        "    print(\"odd index\")\n",
        "    for i in range(0, n-1, 2):\n",
        "      if arr[i] > arr[i+1]:\n",
        "        arr[i], arr[i+1] = arr[i+1], arr[i]\n",
        "        isSorted = False\n",
        "    print(arr)\n",
        "              \n",
        "    print(\"even index\")\n",
        "    for i in range(1, n-1, 2):\n",
        "      if arr[i] > arr[i+1]:\n",
        "        arr[i], arr[i+1] = arr[i+1], arr[i]\n",
        "        isSorted = False\n",
        "    print(arr)\n",
        "\n",
        "  if check_sort(arr, n):\n",
        "    print(\"\\n최종 정렬 결과\")\n",
        "    print(arr, \"\\n\")\n",
        "\n",
        "  else:\n",
        "    print(\"\\n정렬 오류!!!\")\n",
        "    print(arr, \"\\n\")    "
      ],
      "metadata": {
        "id": "GDKzjZxIMhKj"
      },
      "execution_count": 6,
      "outputs": []
    },
    {
      "cell_type": "code",
      "source": [
        "arr1 = [2, 10, 5, 3, 7, 9, 4, 10]\n",
        "n1 = len(arr1)\n",
        "\n",
        "arr2 = [2, 1, 5, 3, 7, 9, 4, 10]\n",
        "n2 = len(arr2)\n",
        "\n",
        "arr3 = [4, 13, 2, 5, 6, 70, 8, 3, 10, 11, 24, 23, 21, 7, 9, 12]\n",
        "n3 = len(arr3)\n",
        "\n",
        "odd_even_sort(arr1, n1)\n",
        "odd_even_sort(arr2, n2)\n",
        "odd_even_sort(arr3, n3)"
      ],
      "metadata": {
        "colab": {
          "base_uri": "https://localhost:8080/"
        },
        "id": "9mbFFEhYINKJ",
        "outputId": "8b8ffcd7-e265-4599-8e42-155bd30b90e3"
      },
      "execution_count": 7,
      "outputs": [
        {
          "output_type": "stream",
          "name": "stdout",
          "text": [
            "\n",
            "정렬 완료\n",
            "\n",
            "정렬 완료\n",
            "\n",
            "정렬 완료\n"
          ]
        }
      ]
    },
    {
      "cell_type": "code",
      "execution_count": 8,
      "metadata": {
        "id": "taATxyRkFyFR",
        "colab": {
          "base_uri": "https://localhost:8080/"
        },
        "outputId": "8ab1821e-3f78-4fe1-beaa-42ab949709e9"
      },
      "outputs": [
        {
          "output_type": "stream",
          "name": "stdout",
          "text": [
            "\n",
            "정렬 완료\n",
            "N = 1000일 때, 정렬 시간 : 0.24 sec\n",
            "\n",
            "정렬 완료\n",
            "N = 5000일 때, 정렬 시간 : 5.71 sec\n",
            "\n",
            "정렬 완료\n",
            "N = 10000일 때, 정렬 시간 : 22.2 sec\n"
          ]
        }
      ],
      "source": [
        "time_list = []\n",
        "N_list = [1000, 5000, 10000]\n",
        "for N in N_list:\n",
        "  arr = np.random.randint(low=0, high=1000, size=N) # 길이가 N개인 임의의 리스트를 생성\n",
        "  start = time.time()\n",
        "  odd_even_sort(arr, N)\n",
        "  time_list.append(round(time.time() - start, 2))\n",
        "  print(f\"N = {N}일 때, 정렬 시간 : {time_list[-1]} sec\")"
      ]
    },
    {
      "cell_type": "code",
      "source": [
        "plt.title(\"Comparison of time required by N value\")\n",
        "plt.plot(N_list, time_list, marker='o')\n",
        "plt.show()\n",
        "\n",
        "plt.title(\"Comparison of time required by N value\")\n",
        "x = np.arange(3)\n",
        "plt.bar(x, time_list)\n",
        "plt.xticks(x, N_list)\n",
        "plt.show()"
      ],
      "metadata": {
        "colab": {
          "base_uri": "https://localhost:8080/",
          "height": 545
        },
        "id": "ifPVY-PiUk4t",
        "outputId": "a0a514b8-87cc-4616-b378-ad444727b6cf"
      },
      "execution_count": 11,
      "outputs": [
        {
          "output_type": "display_data",
          "data": {
            "text/plain": [
              "<Figure size 432x288 with 1 Axes>"
            ],
            "image/png": "[encoded data removed]"
          },
          "metadata": {
            "needs_background": "light"
          }
        },
        {
          "output_type": "display_data",
          "data": {
            "text/plain": [
              "<Figure size 432x288 with 1 Axes>"
            ],
            "image/png": "[encoded data removed]"
          },
          "metadata": {
            "needs_background": "light"
          }
        }
      ]
    }
  ]
}