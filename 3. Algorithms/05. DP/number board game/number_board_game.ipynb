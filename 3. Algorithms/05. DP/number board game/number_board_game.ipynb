{
  "nbformat": 4,
  "nbformat_minor": 0,
  "metadata": {
    "colab": {
      "name": "number_board_game.ipynb",
      "provenance": [],
      "collapsed_sections": []
    },
    "kernelspec": {
      "name": "python3",
      "display_name": "Python 3"
    },
    "language_info": {
      "name": "python"
    }
  },
  "cells": [
    {
      "cell_type": "code",
      "source": [
        "from copy import deepcopy"
      ],
      "metadata": {
        "id": "Es3hJrnt76Tt"
      },
      "execution_count": 69,
      "outputs": []
    },
    {
      "cell_type": "code",
      "source": [
        "def solution(array):\n",
        "  dp = deepcopy(array) # python의 copy 모듈을 사용하여 deepcopy 수행함으로서, 원본 데이터인 array를 보존\n",
        "\n",
        "  # trace는 전의 행 중, 어떤 행에서 내려왔는지에 대한 index(행, 열 쌍)를 담는 리스트\n",
        "  trace = [[0 for col in range(len(dp[0]))] for row in range(len(dp))]  # 빈 2차원 리스트 생성\n",
        "  \n",
        "  for i in range(1, len(dp)): # i는 행을 의미, 첫 0행은 합을 계산할 것이 없으므로 1부터 시작\n",
        "    for j in range(len(dp[0])): # j는 열을 의미\n",
        "      if j==0: # j가 0일 때는 바로 위쪽이나, 바로 오른쪽 대각선 위에서만 내려올 수 있다.\n",
        "        if dp[i-1][j] < dp[i-1][j+1]: # 바로 오른쪽 대각선 위에서 내려왔을 경우\n",
        "          max_val = dp[i-1][j+1]\n",
        "          trace[i][j] = [i-1, j+1]\n",
        "        else: # 바로 위쪽에서 내려왔을 경우\n",
        "          max_val = dp[i-1][j]\n",
        "          trace[i][j] = [i-1, j]\n",
        "\n",
        "      elif j==len(dp[0])-1: # j가 배열의 끝일 때는 바로 위쪽이나, 바로 왼쪽 대각선 위에서만 내려올 수 있다.\n",
        "        if dp[i-1][j-1] < dp[i-1][j]: # 바로 위쪽에서 내려왔을 경우\n",
        "          max_val = dp[i-1][j]\n",
        "          trace[i][j] = [i-1, j]\n",
        "        else: # 바로 왼쪽 대각선 위에서 내려왔을 경우\n",
        "          max_val = dp[i-1][j-1]\n",
        "          trace[i][j] = [i-1, j-1]\n",
        "      \n",
        "      else: # j가 배열의 처음이나 끝이 아닐 때\n",
        "        if dp[i-1][j-1] >= dp[i-1][j] and dp[i-1][j-1] >= dp[i-1][j+1]: # 바로 왼쪽 대각선 위에서 내려왔을 경우\n",
        "          max_val = dp[i-1][j-1]\n",
        "          trace[i][j] = [i-1, j-1]\n",
        "        elif dp[i-1][j] >= dp[i-1][j+1]: # 바로 위쪽에서 내려왔을 경우\n",
        "          max_val = dp[i-1][j]\n",
        "          trace[i][j] = [i-1, j]\n",
        "        else: # 바로 오른쪽 대각선 위에서 내려왔을 경우\n",
        "          max_val = dp[i-1][j+1]\n",
        "          trace[i][j] = [i-1, j+1]\n",
        "\n",
        "      dp[i][j] = max_val + dp[i][j] # dp 배열을 자기자신에 최대값을 더한 합으로 갱신\n",
        "\n",
        "  max_idx = dp[-1].index(max(dp[-1]))\n",
        "  back_tracking = [] # 숫자들이 내려온 경로의 합이 최대인 경로의 위치정보(index)를 거꾸로 담는 리스트\n",
        "  back_tracking.append([len(dp)-1, max_idx]) # 최종 경로의 합의 최대값의 위치\n",
        "  for idx in reversed(range(1, len(dp))): # 거꾸로 담기 때문에 reversed를 사용해 for문을 역순으로 순회\n",
        "    back_tracking.append(trace[idx][max_idx])\n",
        "    max_idx = back_tracking[-1][1]\n",
        "  back_tracking.reverse() # 끝에서부터(숫자판의 아래) 거꾸로 되어있는 리스트를 처음부터(숫자판의 위) 출력되도록 뒤집어줌\n",
        "\n",
        "  print(\"숫자들이 내려온 경로의 합이 최대인 경로\")\n",
        "  for cell in back_tracking:\n",
        "    print(array[cell[0]][cell[1]], end=\" \")\n",
        "  print()\n",
        "  print(\"숫자들이 내려온 경로의 합의 최대값\")\n",
        "  print(max(dp[-1]))"
      ],
      "metadata": {
        "id": "gPVJnbAd-wzE"
      },
      "execution_count": 107,
      "outputs": []
    },
    {
      "cell_type": "code",
      "execution_count": 108,
      "metadata": {
        "colab": {
          "base_uri": "https://localhost:8080/"
        },
        "id": "0G_0RPy5WBpi",
        "outputId": "5a3ccad2-f880-4fde-9494-10f3173e8143"
      },
      "outputs": [
        {
          "output_type": "stream",
          "name": "stdout",
          "text": [
            "숫자들이 내려온 경로의 합이 최대인 경로\n",
            "4 223 51 5 6 32 4 78 \n",
            "숫자들이 내려온 경로의 합의 최대값\n",
            "403\n"
          ]
        }
      ],
      "source": [
        "array = [\n",
        "          [3, 4, 9, -2, 2, 51, -23, 2, -1],\n",
        "          [223, 7, 8, -11, 5, -99, 2, 3, -4],\n",
        "          [2, 51, -23, -23, 6, 3, 2, 4, 5],\n",
        "          [5, -99, 2, -1, 32, 2, 5, -99, 2],\n",
        "          [6, 3, 3, -4, 2, -1, 6, 3, 3],\n",
        "          [32, 2, 4, 5, 3, -4, 2, -1, 4],\n",
        "          [4, 4, 23, 6, 2, -1, 3, -4, 34],\n",
        "          [78, 32, 1, 7, 3, -4, -23, -23, 6],\n",
        "        ];\n",
        "\n",
        "solution(array)"
      ]
    }
  ]
}