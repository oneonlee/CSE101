{
  "nbformat": 4,
  "nbformat_minor": 0,
  "metadata": {
    "colab": {
      "name": "kmp_algorithm.ipynb",
      "provenance": [],
      "collapsed_sections": []
    },
    "kernelspec": {
      "name": "python3",
      "display_name": "Python 3"
    },
    "language_info": {
      "name": "python"
    }
  },
  "cells": [
    {
      "cell_type": "code",
      "source": [
        "def init_next(pattern):\n",
        "    M = len(pattern)\n",
        "    next = [0 for _ in range(M)] # 정보 저장용 배열\n",
        "    \n",
        "    j = 0 # 배열의 값을 불러오고, 패턴의 인덱스에 접근\n",
        "    for i in range(1, M): # 배열에 값 저장하기 위해 활용하는 인덱스\n",
        "        # j가 0이 되거나, i와 j의 pattern 접근 값이 같아질 때까지 진행\n",
        "        while j > 0 and pattern[i] != pattern[j]:\n",
        "            j = next[j-1] # 이전의 일치한 곳까지 돌아가서 다시 비교\n",
        "        \n",
        "        # 값이 일치하는 경우, \n",
        "        if pattern[i] == pattern[j] :\n",
        "            # j의 값을 1 증가시키고 그 값을 next에 갱신\n",
        "            j += 1\n",
        "            next[i] = j\n",
        "    \n",
        "    return next"
      ],
      "metadata": {
        "id": "pvWqYa1DRmW3"
      },
      "execution_count": 1,
      "outputs": []
    },
    {
      "cell_type": "code",
      "source": [
        "def KMP(pattern, text):\n",
        "    M = len(pattern)\n",
        "    N = len(text)\n",
        "\n",
        "    next = init_next(pattern)\n",
        "    \n",
        "    j = 0\n",
        "    \n",
        "    for i in range(N):\n",
        "        # 단어와 패턴이 일치하지 않을 때\n",
        "        while j > 0 and text[i] != pattern[j] :\n",
        "            j = next[j-1] # 이전의 일치한 곳까지 돌아가서 다시 비교\n",
        "        \n",
        "        # 만약 j가 패턴의 끝까지 도달하였다면,\n",
        "        if text[i] == pattern[j]:\n",
        "            if j == M - 1 :\n",
        "                print(\"패턴이 발생한 위치:\", i - (M - 1))\n",
        "                j = next[j] # 위치를 옮겨주고 다시 탐색\n",
        "            else: # 해당 인덱스에서 값이 일치한다면, j를 1 증가시킴\n",
        "                j += 1\n",
        "    print(\"탐색 종료\")"
      ],
      "metadata": {
        "id": "AqnwF1bfbHzD"
      },
      "execution_count": 2,
      "outputs": []
    },
    {
      "cell_type": "code",
      "source": [
        "text1 = \"ababababcababababcaabbabababcaab\"\n",
        "pattern1 = \"abababca\"\n",
        "KMP(pattern1, text1)"
      ],
      "metadata": {
        "colab": {
          "base_uri": "https://localhost:8080/"
        },
        "id": "Ujn7V_uSTz0I",
        "outputId": "4399af4d-9102-4e98-a8ba-0bb4a8258659"
      },
      "execution_count": 3,
      "outputs": [
        {
          "output_type": "stream",
          "name": "stdout",
          "text": [
            "패턴이 발생한 위치: 2\n",
            "패턴이 발생한 위치: 11\n",
            "패턴이 발생한 위치: 22\n",
            "탐색 종료\n"
          ]
        }
      ]
    },
    {
      "cell_type": "code",
      "source": [
        "text2 = \"This class is an algorithm design class. Therefore, students will have time to learn about algorithms and implement each algorithm themselves.\"\n",
        "pattern2 = \"algorithm\"\n",
        "KMP(pattern2, text2)"
      ],
      "metadata": {
        "colab": {
          "base_uri": "https://localhost:8080/"
        },
        "id": "kdHtrFGoT1S8",
        "outputId": "1587194d-9ac6-450e-eca8-884717007ffc"
      },
      "execution_count": 4,
      "outputs": [
        {
          "output_type": "stream",
          "name": "stdout",
          "text": [
            "패턴이 발생한 위치: 17\n",
            "패턴이 발생한 위치: 91\n",
            "패턴이 발생한 위치: 121\n",
            "탐색 종료\n"
          ]
        }
      ]
    },
    {
      "cell_type": "code",
      "source": [
        ""
      ],
      "metadata": {
        "id": "JY5McSYMa2Rk"
      },
      "execution_count": 4,
      "outputs": []
    }
  ]
}