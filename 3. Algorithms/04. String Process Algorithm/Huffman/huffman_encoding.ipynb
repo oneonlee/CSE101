{
  "nbformat": 4,
  "nbformat_minor": 0,
  "metadata": {
    "colab": {
      "name": "huffman_encoding.ipynb",
      "provenance": [],
      "collapsed_sections": []
    },
    "kernelspec": {
      "name": "python3",
      "display_name": "Python 3"
    },
    "language_info": {
      "name": "python"
    }
  },
  "cells": [
    {
      "cell_type": "code",
      "source": [
        "from queue import PriorityQueue"
      ],
      "metadata": {
        "id": "pvWqYa1DRmW3"
      },
      "execution_count": 1,
      "outputs": []
    },
    {
      "cell_type": "code",
      "source": [
        "class HuffNode:\n",
        "    def __init__ (self, symbol, freq):\n",
        "        self.symbol = symbol\n",
        "        self.freq = freq\n",
        "        self.left = None\n",
        "        self.right = None\n",
        "\n",
        "    def __lt__(self,other): # '<' OperatorMethod\n",
        "        return self.freq < other.freq # 객체의 freq를 비교\n",
        "\n",
        "    def __gt__(self,other): # '>' OperatorMethod\n",
        "        return self.freq > other.freq # 객체의 freq를 비교\n",
        "\n",
        "    def postorder(self, code=\"\"): # 출력하기 위해 postorder 사용\n",
        "        if (self.left is not None):\n",
        "            self.left.postorder(code + '0')\n",
        "        if (self.right is not None):\n",
        "            self.right.postorder(code + '1')\n",
        "        if self.symbol != ' ':\n",
        "            print(f\"{self.symbol} {code}\")"
      ],
      "metadata": {
        "id": "uPV2xWJOJ4hq"
      },
      "execution_count": 2,
      "outputs": []
    },
    {
      "cell_type": "code",
      "source": [
        "def huffman(n, PQ):\n",
        "    for _ in range(n - 1):\n",
        "        p = PQ.get()[1]\n",
        "        q = PQ.get()[1]\n",
        "        r = HuffNode(' ', p.freq + q.freq)\n",
        "        r.left = p\n",
        "        r.right = q\n",
        "        PQ.put((r.freq, r))\n",
        "    return PQ.get()[1]"
      ],
      "metadata": {
        "id": "8GoqkMVmQuwm"
      },
      "execution_count": 3,
      "outputs": []
    },
    {
      "cell_type": "code",
      "source": [
        "texts1 = [\"X\", \"A\", \"B\", \"C\", \"D\", \"E\", \"F\"]\n",
        "freqs1 = [27, 15, 12, 9, 5, 10, 11]\n",
        "\n",
        "PQ1 = PriorityQueue()\n",
        "\n",
        "for i in range(len(texts1)):\n",
        "    node = HuffNode(texts1[i], freqs1[i])\n",
        "    PQ1.put((node.freq, node))\n",
        "\n",
        "ex1 = huffman(len(texts1), PQ1)\n",
        "ex1.postorder()"
      ],
      "metadata": {
        "colab": {
          "base_uri": "https://localhost:8080/"
        },
        "id": "5YK6EK5QKl4q",
        "outputId": "7fc7b4a0-1405-4770-9379-3e8f2e8f9a7c"
      },
      "execution_count": 4,
      "outputs": [
        {
          "output_type": "stream",
          "name": "stdout",
          "text": [
            "A 00\n",
            "E 010\n",
            "F 011\n",
            "B 100\n",
            "D 1010\n",
            "C 1011\n",
            "X 11\n"
          ]
        }
      ]
    },
    {
      "cell_type": "code",
      "source": [
        "texts2 = [\"LDG\", \"ABC\", \"ABCC\", \"AB\", \"A\", \"B\", \"BABA\"]\n",
        "freqs2 = [27, 12, 7, 19, 35, 40, 15]\n",
        "\n",
        "PQ2 = PriorityQueue()\n",
        "\n",
        "for i in range(len(texts2)):\n",
        "    node = HuffNode(texts2[i], freqs2[i])\n",
        "    PQ2.put((node.freq, node))\n",
        "\n",
        "ex2 = huffman(len(texts2), PQ2)\n",
        "ex2.postorder()"
      ],
      "metadata": {
        "id": "a02MhoIkK3BP",
        "colab": {
          "base_uri": "https://localhost:8080/"
        },
        "outputId": "9a4f7b46-b262-4d7e-bcf2-3fe8e5f2472c"
      },
      "execution_count": 5,
      "outputs": [
        {
          "output_type": "stream",
          "name": "stdout",
          "text": [
            "BABA 000\n",
            "ABCC 0010\n",
            "ABC 0011\n",
            "A 01\n",
            "B 10\n",
            "AB 110\n",
            "LDG 111\n"
          ]
        }
      ]
    }
  ]
}