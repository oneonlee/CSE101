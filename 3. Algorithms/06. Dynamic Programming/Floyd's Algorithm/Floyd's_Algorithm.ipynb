{
  "nbformat": 4,
  "nbformat_minor": 0,
  "metadata": {
    "colab": {
      "name": "Floyd's_Algorithm.ipynb",
      "provenance": [],
      "collapsed_sections": []
    },
    "kernelspec": {
      "name": "python3",
      "display_name": "Python 3"
    },
    "language_info": {
      "name": "python"
    }
  },
  "cells": [
    {
      "cell_type": "code",
      "execution_count": 1,
      "metadata": {
        "id": "MqXzn23AOS5I"
      },
      "outputs": [],
      "source": [
        "def floyd2(n, W):\n",
        "  D = W                                 # 최단 경로의 길이가 포함된 배열\n",
        "  P = [[0] * (n+1) for _ in range(n+1)] # 최단 경로를 나타내는 배열\n",
        "\n",
        "  for k in range(1, n+1):\n",
        "    for i in range(1, n+1):\n",
        "      for j in range(1, n+1):\n",
        "        if D[i][k] + D[k][j] < D[i][j]: # k를 거쳐가는 경로가 최단경로일 경우\n",
        "          P[i][j] = k                 # P[i][j]에 k가 거쳐간다고 기록\n",
        "          D[i][j] = D[i][k] + D[k][j] # D[i][j]를 k를 거쳐가는 길이로 수정\n",
        "        else: # k를 거치지 않는 경우가 최단경로일 경우\n",
        "          pass # D[i][j], P[i][j] 를 수정하지 않음\n",
        "\n",
        "  return D, P"
      ]
    },
    {
      "cell_type": "code",
      "source": [
        "def path(P, q, r): # q: 출발 정점, r: 도착 정점\n",
        "  if P[q][r] == 0:  # 만약 주어진 경로의 칸의 값이 0인 경우\n",
        "    pass  # 그냥 직선이 가장 좋은 경우이므로 pass\n",
        "  else:             # 만약 0이 아니라면, 해당 칸을 전후로 나누어 \n",
        "    path(P, q, P[q][r]) # \"시작 지점 -> 해당 지점\"을 재귀함수로 호출\n",
        "    print(f\" v{P[q][r]}\", end=\" ->\")\n",
        "    path(P, P[q][r], r) # \"해당 지점 -> 끝 지점\"을 재귀함수로 호출"
      ],
      "metadata": {
        "id": "FnMB5jtUhcqu"
      },
      "execution_count": 2,
      "outputs": []
    },
    {
      "cell_type": "code",
      "source": [
        "def solution(n, W, q, r):\n",
        "  D, P = floyd2(n, W)\n",
        "\n",
        "  print(\"D[i][j] is\")\n",
        "  for row in range(1, len(D)):\n",
        "      for col in range(1, len(D)):\n",
        "        print(D[row][col], end=' ')\n",
        "      print()\n",
        "\n",
        "  print(\"\\nP[i][j] is\")\n",
        "  for row in range(1, len(P)):\n",
        "      for col in range(1, len(P)):\n",
        "        print(P[row][col], end=' ')\n",
        "      print()\n",
        "      \n",
        "  # 최단 경로 출력\n",
        "  print(f\"\\nThe shortest path({q}, {r}) is\", end=' ')\n",
        "  print(f\"v{q}\", end=' ->')\n",
        "  path(P, q, r)\n",
        "  print(f\" v{r}\", end=' ')"
      ],
      "metadata": {
        "id": "8FYQz9cKhesj"
      },
      "execution_count": 3,
      "outputs": []
    },
    {
      "cell_type": "code",
      "source": [
        "INF = 999\n",
        "W = [ # 가중치를 포함한 방향성 그래프\n",
        "      [  0,   1,   2,   3,   4,   5],\n",
        "      [  1,   0,   1, INF,   1,   5],\n",
        "      [  2,   9,   0,   3,   2, INF],\n",
        "      [  3, INF, INF,   0,   4, INF],\n",
        "      [  4, INF, INF,   2,   0,   3],\n",
        "      [  5,   3, INF, INF, INF,   0]\n",
        "    ]\n",
        "\n",
        "n = 5 # 그래프에서의 정점의 수"
      ],
      "metadata": {
        "id": "oqCzxq3RsrD3"
      },
      "execution_count": 4,
      "outputs": []
    },
    {
      "cell_type": "code",
      "source": [
        "# v5 -> v3인 경우\n",
        "solution(n, W, 5, 3)"
      ],
      "metadata": {
        "colab": {
          "base_uri": "https://localhost:8080/"
        },
        "id": "BDknStZPQJvA",
        "outputId": "9b64056c-5c13-45b7-e6f7-c111c74f847a"
      },
      "execution_count": 5,
      "outputs": [
        {
          "output_type": "stream",
          "name": "stdout",
          "text": [
            "D[i][j] is\n",
            "0 1 3 1 4 \n",
            "8 0 3 2 5 \n",
            "10 11 0 4 7 \n",
            "6 7 2 0 3 \n",
            "3 4 6 4 0 \n",
            "\n",
            "P[i][j] is\n",
            "0 0 4 0 4 \n",
            "5 0 0 0 4 \n",
            "5 5 0 0 4 \n",
            "5 5 0 0 0 \n",
            "0 1 4 1 0 \n",
            "\n",
            "The shortest path(5, 3) is v5 -> v1 -> v4 -> v3 "
          ]
        }
      ]
    },
    {
      "cell_type": "code",
      "source": [
        "# v1 -> v3인 경우\n",
        "solution(n, W, 1, 3)"
      ],
      "metadata": {
        "colab": {
          "base_uri": "https://localhost:8080/"
        },
        "id": "KtReSUuqhBb7",
        "outputId": "5a695c6f-8197-49f1-c628-3d901ca5b974"
      },
      "execution_count": 6,
      "outputs": [
        {
          "output_type": "stream",
          "name": "stdout",
          "text": [
            "D[i][j] is\n",
            "0 1 3 1 4 \n",
            "8 0 3 2 5 \n",
            "10 11 0 4 7 \n",
            "6 7 2 0 3 \n",
            "3 4 6 4 0 \n",
            "\n",
            "P[i][j] is\n",
            "0 0 0 0 0 \n",
            "0 0 0 0 0 \n",
            "0 0 0 0 0 \n",
            "0 0 0 0 0 \n",
            "0 0 0 0 0 \n",
            "\n",
            "The shortest path(1, 3) is v1 -> v3 "
          ]
        }
      ]
    },
    {
      "cell_type": "code",
      "source": [
        "# v2 -> v5인 경우\n",
        "solution(n, W, 2, 5)"
      ],
      "metadata": {
        "colab": {
          "base_uri": "https://localhost:8080/"
        },
        "id": "Tqv98QoEhBjr",
        "outputId": "e13d9e32-389c-4700-b13f-ff91f439296b"
      },
      "execution_count": 7,
      "outputs": [
        {
          "output_type": "stream",
          "name": "stdout",
          "text": [
            "D[i][j] is\n",
            "0 1 3 1 4 \n",
            "8 0 3 2 5 \n",
            "10 11 0 4 7 \n",
            "6 7 2 0 3 \n",
            "3 4 6 4 0 \n",
            "\n",
            "P[i][j] is\n",
            "0 0 0 0 0 \n",
            "0 0 0 0 0 \n",
            "0 0 0 0 0 \n",
            "0 0 0 0 0 \n",
            "0 0 0 0 0 \n",
            "\n",
            "The shortest path(2, 5) is v2 -> v5 "
          ]
        }
      ]
    },
    {
      "cell_type": "code",
      "source": [
        ""
      ],
      "metadata": {
        "id": "Y8j40JQlhDQ1"
      },
      "execution_count": 7,
      "outputs": []
    }
  ]
}