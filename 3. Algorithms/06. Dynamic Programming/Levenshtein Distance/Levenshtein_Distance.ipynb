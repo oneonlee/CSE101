{
  "nbformat": 4,
  "nbformat_minor": 0,
  "metadata": {
    "colab": {
      "name": " Levenshtein Distance.ipynb",
      "provenance": [],
      "collapsed_sections": []
    },
    "kernelspec": {
      "name": "python3",
      "display_name": "Python 3"
    },
    "language_info": {
      "name": "python"
    }
  },
  "cells": [
    {
      "cell_type": "markdown",
      "source": [
        "# Levenshtein Distance"
      ],
      "metadata": {
        "id": "mZrAX4NDYepC"
      }
    },
    {
      "cell_type": "code",
      "source": [
        "import numpy as np # 빈 리스트를 만들기 위한 np.zeros() 함수 사용 목적\n",
        "import math # 두 실수가 같은지 판단하기 위한 math.isclose() 함수 사용 목적"
      ],
      "metadata": {
        "id": "W0G4jNTNgGxs"
      },
      "execution_count": null,
      "outputs": []
    },
    {
      "cell_type": "markdown",
      "source": [
        "## (1) Levenshtein Distance를 구하는 알고리즘을 구현하고 Source=“GUMBO”, Target=“GAMBOL”를 이용하여 연산비용이 아래와 같을때 동작함을 보일 것."
      ],
      "metadata": {
        "id": "hbyQgJ1nYhS9"
      }
    },
    {
      "cell_type": "code",
      "source": [
        "def calculate_distance(source, target, cost):\n",
        "    m = len(source)\n",
        "    n = len(target)\n",
        "    D = np.zeros((n+1, m+1))\n",
        "\n",
        "    insertion_cost = cost[0]\n",
        "    deletion_cost = cost[1]\n",
        "    substitution_cost = cost[2]\n",
        "\n",
        "    for i in range(1, n+1):\n",
        "        D[i][0] = D[i-1][0] + insertion_cost(target[i-1])\n",
        "    for j in range(1, m+1):\n",
        "        D[0][j] = D[0][j-1] + deletion_cost(source[j-1])\n",
        "    for i in range(1, n+1):\n",
        "        for j in range(1, m+1):\n",
        "            D[i][j] = min(D[i][j-1] + deletion_cost(source[j-1]),\n",
        "                          D[i-1][j] + insertion_cost(target[i-1]),\n",
        "                          D[i-1][j-1] + substitution_cost(source[j-1], target[i-1]))\n",
        "\n",
        "    # 부동소수점 오차를 해결하기 위해 round() 함수를 사용하여 반올림하여 반환\n",
        "    return round(D[n][m], 2) "
      ],
      "metadata": {
        "id": "kSSGheE8XDZd"
      },
      "execution_count": null,
      "outputs": []
    },
    {
      "cell_type": "code",
      "execution_count": null,
      "metadata": {
        "id": "EE5-8YqST8eu"
      },
      "outputs": [],
      "source": [
        "source = \"GUMBO\"\n",
        "target = \"GAMBOL\""
      ]
    },
    {
      "cell_type": "markdown",
      "source": [
        "### (a) 삽입비용 = 삭제비용 = 1, 교환비용 = 0/1 일때"
      ],
      "metadata": {
        "id": "AgAEEqicYtbV"
      }
    },
    {
      "cell_type": "code",
      "source": [
        "# 삭제, 삽입, 교체에 드는 비용을 람다 표현식으로 정의\n",
        "insertion_cost_a = lambda x: 1\n",
        "deletion_cost_a = lambda x: 1\n",
        "substitution_cost_a = lambda x, y: 0 if x==y else 1\n",
        "\n",
        "cost_a = [insertion_cost_a, deletion_cost_a, substitution_cost_a]\n",
        "\n",
        "print(\"Levenshtein Distance : \", end=\"\")\n",
        "print(calculate_distance(source, target, cost_a))"
      ],
      "metadata": {
        "colab": {
          "base_uri": "https://localhost:8080/"
        },
        "id": "BcmYWNmiYrD8",
        "outputId": "6d986f8e-0652-4f0e-d4d4-3febedc02dda"
      },
      "execution_count": null,
      "outputs": [
        {
          "output_type": "stream",
          "name": "stdout",
          "text": [
            "Levenshtein Distance : 2.0\n"
          ]
        }
      ]
    },
    {
      "cell_type": "markdown",
      "source": [
        "### (b) 삽입비용 = 0.7, 삭제비용 = 0.5, 교환비용 = 0/0.3 일때"
      ],
      "metadata": {
        "id": "DIqwhx_6Yu8Y"
      }
    },
    {
      "cell_type": "code",
      "source": [
        "insertion_cost_b = lambda x: 0.7\n",
        "deletion_cost_b = lambda x: 0.5\n",
        "substitution_cost_b = lambda x, y: 0 if x==y else 0.3\n",
        "\n",
        "cost_b = [insertion_cost_b, deletion_cost_b, substitution_cost_b]\n",
        "\n",
        "print(\"Levenshtein Distance : \", end=\"\")\n",
        "print(calculate_distance(source, target, cost_b))"
      ],
      "metadata": {
        "colab": {
          "base_uri": "https://localhost:8080/"
        },
        "id": "iW-sp4eAYwiA",
        "outputId": "4301b8a4-d976-47da-9584-f5dc3bd9eb1d"
      },
      "execution_count": null,
      "outputs": [
        {
          "output_type": "stream",
          "name": "stdout",
          "text": [
            "Levenshtein Distance : 1.0\n"
          ]
        }
      ]
    },
    {
      "cell_type": "markdown",
      "source": [
        "## (2) 위에서 작성한 알고리즘을 삽입, 삭제, 교환연산이 어떤 순서로 일어나는지 출력하도록 수정할 것, 아래 Data 1,2,3에 대한 연산순서를 출력할 것\n",
        "(삽입비용 = 0.7, 삭제비용 = 0.5, 교환비용 = 0/0.3)\n",
        "\n",
        "Source=“GUMBO”, Target=“GAMBOL”의 경우 출력 예)\n",
        "```\n",
        "교환연산 0.3, 삽입연산 0.7 : Levenshtein Distance = 1\n",
        "```"
      ],
      "metadata": {
        "id": "xosh6ZG-frXm"
      }
    },
    {
      "cell_type": "code",
      "source": [
        "def updated_calculate_distance(source, target, cost):\n",
        "    # calculate_distance() 함수와 동일\n",
        "    m = len(source)\n",
        "    n = len(target)\n",
        "    D = np.zeros((n+1, m+1))\n",
        "\n",
        "    insertion_cost = cost[0]\n",
        "    deletion_cost = cost[1]\n",
        "    substitution_cost = cost[2]\n",
        "\n",
        "    for i in range(1, n+1):\n",
        "        D[i][0] = D[i-1][0] + insertion_cost(target[i-1])\n",
        "    for j in range(1, m+1):\n",
        "        D[0][j] = D[0][j-1] + deletion_cost(source[j-1])\n",
        "    for i in range(1, n+1):\n",
        "        for j in range(1, m+1):\n",
        "            D[i][j] = min(D[i][j-1] + deletion_cost(source[j-1]),\n",
        "                          D[i-1][j] + insertion_cost(target[i-1]),\n",
        "                          D[i-1][j-1] + substitution_cost(source[j-1], target[i-1]))\n",
        "\n",
        "    # 연산이 어떤 순서로 일어나는지 출력하기 위해 추가한 부분\n",
        "    order_list = []  # 어떤 연산이 일어났는지 역순으로 담는 리스트\n",
        "    # 행렬의 마지막(가장 오른쪽 아래)에서 시작해 처음(왼쪽 위)으로 감\n",
        "    i = n\n",
        "    j = m\n",
        "    cur = D[i][j]\n",
        "    while (cur > 0):  # cur이 0이 되기 전까지, 즉 처음(왼쪽 위)에 도착할 때까지\n",
        "        cur = D[i][j]\n",
        "\n",
        "        # 파이썬에서 두 실수가 같은지 판단할 때, 부동 소수점 오차를 피하기 위해서 math.isclose를 사용해야 함\n",
        "        if math.isclose(cur - D[i-1][j-1], substitution_cost(source[j-1], target[i-1])):\n",
        "            if source[j-1] == target[i-1]:  # 글자가 같을 때는 아무 변화 없음\n",
        "                if i > 0:\n",
        "                    i = i-1\n",
        "                if j > 0:\n",
        "                    j = j-1\n",
        "                continue\n",
        "\n",
        "            # print(\"Change\", source[j-1], \"to\", target[i-1])\n",
        "            order_list.append(\n",
        "                f\"교환비용 {substitution_cost(source[j-1], target[i-1])}\")\n",
        "\n",
        "            # i, j가 0 초과일 때만 빼줌 (i[-1]처럼 넘어가는 것을 방지)\n",
        "            if i > 0:\n",
        "                i = i-1\n",
        "            if j > 0:\n",
        "                j = j-1\n",
        "\n",
        "        elif math.isclose(cur - D[i][j-1], deletion_cost(source[j-1])):\n",
        "            # print(\"Delete\", source[j-1])\n",
        "            order_list.append(f\"삭제비용 {deletion_cost(source[j-1])}\")\n",
        "\n",
        "            if j > 0:\n",
        "                j = j-1\n",
        "\n",
        "        elif math.isclose(cur - D[i-1][j], insertion_cost(target[i-1])):\n",
        "            # print(\"Insert\", target[i-1])\n",
        "            order_list.append(f\"삽입비용 {insertion_cost(target[i-1])}\")\n",
        "\n",
        "            if i > 0:\n",
        "                i = i-1\n",
        "\n",
        "        else:\n",
        "            if i > 0:\n",
        "                i = i-1\n",
        "            if j > 0:\n",
        "                j = j-1\n",
        "\n",
        "    order_list.reverse()  # 역순으로 append 해준 연산 순서를 원래대로 뒤집어줌\n",
        "    for calculation in order_list:\n",
        "        print(calculation)\n",
        "\n",
        "    # 부동소수점 오차를 해결하기 위해 round() 함수를 사용하여 반올림하여 출력\n",
        "    print(f\": Levenshtein Distance = {round(D[n][m], 2)}\")\n",
        "    # return round(D[n][m], 2)\n"
      ],
      "metadata": {
        "id": "Wk6NzCFCgClN"
      },
      "execution_count": null,
      "outputs": []
    },
    {
      "cell_type": "markdown",
      "source": [
        "### Data 1) Source = Levenshtein, Target = Meilenstein"
      ],
      "metadata": {
        "id": "PmPmsQydf-sS"
      }
    },
    {
      "cell_type": "code",
      "source": [
        "source_1 = \"Levenshtein\" \n",
        "target_1 = \"Meilenstein\"\n",
        "\n",
        "updated_calculate_distance(source_1, target_1, cost_b)"
      ],
      "metadata": {
        "colab": {
          "base_uri": "https://localhost:8080/"
        },
        "id": "2T1xBL7cgQ2c",
        "outputId": "ec4c1731-5f47-4168-fcdf-88d2a4badab3"
      },
      "execution_count": null,
      "outputs": [
        {
          "output_type": "stream",
          "name": "stdout",
          "text": [
            "교환비용 0.3\n",
            "교환비용 0.3\n",
            "교환비용 0.3\n",
            "교환비용 0.3\n",
            "교환비용 0.3\n",
            "교환비용 0.3\n",
            ": Levenshtein Distance = 1.8\n"
          ]
        }
      ]
    },
    {
      "cell_type": "markdown",
      "source": [
        "### Data 2) Source = TACTG, Target = CATGACTG"
      ],
      "metadata": {
        "id": "2qWiaqP4gAa6"
      }
    },
    {
      "cell_type": "code",
      "source": [
        "source_2 = \"TACTG\"\n",
        "target_2 = \"CATGACTG\"\n",
        "\n",
        "updated_calculate_distance(source_2, target_2, cost_b)"
      ],
      "metadata": {
        "colab": {
          "base_uri": "https://localhost:8080/"
        },
        "id": "rvKS32jhgXDq",
        "outputId": "72e354e0-7463-4f6b-8a31-d5b38713f0aa"
      },
      "execution_count": null,
      "outputs": [
        {
          "output_type": "stream",
          "name": "stdout",
          "text": [
            "삽입비용 0.7\n",
            "삽입비용 0.7\n",
            "삽입비용 0.7\n",
            ": Levenshtein Distance = 2.1\n"
          ]
        }
      ]
    },
    {
      "cell_type": "markdown",
      "source": [
        "### Data 3) Source = 데이타마이닝, Target = 데이터베이스설계"
      ],
      "metadata": {
        "id": "F1bRghlEgBPA"
      }
    },
    {
      "cell_type": "code",
      "source": [
        "source_3 = \"데이타마이닝\"\n",
        "target_3 = \"데이터베이스설계\"\n",
        "\n",
        "updated_calculate_distance(source_3, target_3, cost_b)"
      ],
      "metadata": {
        "colab": {
          "base_uri": "https://localhost:8080/"
        },
        "id": "wp_IohutgcgE",
        "outputId": "9ef0cb0e-eaa9-460c-b31d-ef774c6bcd84"
      },
      "execution_count": null,
      "outputs": [
        {
          "output_type": "stream",
          "name": "stdout",
          "text": [
            "교환비용 0.3\n",
            "교환비용 0.3\n",
            "삽입비용 0.7\n",
            "삽입비용 0.7\n",
            "교환비용 0.3\n",
            ": Levenshtein Distance = 2.3\n"
          ]
        }
      ]
    },
    {
      "cell_type": "markdown",
      "source": [
        "## 참고자료\n",
        "1. [문자열 사이의 거리 구하기 — 편집거리 | 인사이저:네이버 블로그](https://blog.naver.com/myincizor/221636314058)\n",
        "2. [Edit Distance - 최소 편집 방법 추적하기 /  DP | 개발자 라면:티스토리](https://flower0.tistory.com/88)\n",
        "3. [최소 편집 거리(Minimum Edit Distance) 알고리즘 | 안경잡이개발자:네이버 블로그](https://blog.naver.com/ndb796/220870218783)\n",
        "4. [파이썬 코딩 도장 | 47.7 실수 값의 오차](https://dojang.io/mod/page/view.php?id=2466)\n",
        "5. [[5] 문장의 유사도 분석하기 - 레벤슈타인 거리, N-gram | Hello:티스토리](https://too-march.tistory.com/20)"
      ],
      "metadata": {
        "id": "onX_GvmY0Ou2"
      }
    }
  ]
}