{
  "nbformat": 4,
  "nbformat_minor": 0,
  "metadata": {
    "colab": {
      "name": "Knapsack Problem.ipynb",
      "provenance": []
    },
    "kernelspec": {
      "name": "python3",
      "display_name": "Python 3"
    },
    "language_info": {
      "name": "python"
    }
  },
  "cells": [
    {
      "cell_type": "code",
      "source": [
        "# max_W: 배낭의 최대 용량, N: 보석의 수, weight: 각 보석의 무게, value: 각 보석의 가치\n",
        "def knapsack_problem(max_W, N, weight, value):  \n",
        "    # DP를 위해 2차원 리스트 P를 0으로 초기화\n",
        "    P = [[0 for x in range(max_W+1)] for x in range(N+1)]\n",
        "\n",
        "    # 0번째 보석의 자리는 비워져 있으므로 for문을 1부터 시작함\n",
        "    for i in range(1, N+1):\n",
        "        for w in range(1, max_W+1):\n",
        "            # P[i][w]에 대한 점화식 구현\n",
        "            # P[i][w] : i개의 아이템을 골랐을 때, w 무게에서의 최대 가치\n",
        "            \n",
        "            # 현재 물건이 가방이 담을 수 있는 무게보다 작아서 물건을 포함할 수 있다면\n",
        "            if weight[i] <= w: \n",
        "                # 둘 중 최고의 이익(max) 선택\n",
        "                P[i][w] = max(P[i-1][w], value[i]+P[i-1][w-weight[i]])  \n",
        "            # 현재 물건이 가방이 담을 수 있는 무게보다 작아서 물건을 포함할 수 없다면 \n",
        "            else: \n",
        "                P[i][w] = P[i-1][w] # 이전 값을 그대로 가져옴\n",
        "    # 가방에 담을 수 있는 최대 무게에서 모든 물건을 고려했을 때의 최대값을 출력\n",
        "    return P[N][max_W]"
      ],
      "metadata": {
        "id": "CmsHk5eBuAm-"
      },
      "execution_count": 1,
      "outputs": []
    },
    {
      "cell_type": "code",
      "source": [
        "# 입력 1\n",
        "max_W = 15\n",
        "gem_list = [(5, 5), (10, 7), (7, 10), (3, 6), (4, 8), (11, 20)]\n",
        "N = len(gem_list)\n",
        "\n",
        "# 0번째 보석의 자리는 비워둠\n",
        "weight = [0]\n",
        "value = [0] \n",
        "\n",
        "for i in range(len(gem_list)):\n",
        "    weight.append(gem_list[i][0])\n",
        "    value.append(gem_list[i][1])\n",
        "\n",
        "print(\"입력 1에 대하여 가방에 담은 보석의 최대 가치: \", end='')\n",
        "print(knapsack_problem(max_W, N, weight, value))"
      ],
      "metadata": {
        "colab": {
          "base_uri": "https://localhost:8080/"
        },
        "id": "OYL0dsAHqNTj",
        "outputId": "be5de9cc-01a4-4f18-b819-ba3c6573cbb2"
      },
      "execution_count": 2,
      "outputs": [
        {
          "output_type": "stream",
          "name": "stdout",
          "text": [
            "입력 1에 대하여 가방에 담은 보석의 최대 가치: 28\n"
          ]
        }
      ]
    },
    {
      "cell_type": "code",
      "source": [
        "# 입력 2\n",
        "max_W = 30\n",
        "gem_list = [(3, 5), (7, 7), (8, 10), (5, 6), (6, 8), (13, 20), (11, 18), (2, 5)]\n",
        "N = len(gem_list)\n",
        "\n",
        "# 0번째 보석의 자리는 비워둠\n",
        "weight = [0]\n",
        "value = [0] \n",
        "\n",
        "for i in range(len(gem_list)):\n",
        "    weight.append(gem_list[i][0])\n",
        "    value.append(gem_list[i][1])\n",
        "\n",
        "print(\"입력 2에 대하여 가방에 담은 보석의 최대 가치: \", end='')\n",
        "print(knapsack_problem(max_W, N, weight, value))"
      ],
      "metadata": {
        "colab": {
          "base_uri": "https://localhost:8080/"
        },
        "id": "OCh4Kh2KwH8z",
        "outputId": "6fd4ff81-97d2-47b7-f0a3-cac93d251abe"
      },
      "execution_count": 3,
      "outputs": [
        {
          "output_type": "stream",
          "name": "stdout",
          "text": [
            "입력 2에 대하여 가방에 담은 보석의 최대 가치: 48\n"
          ]
        }
      ]
    }
  ]
}